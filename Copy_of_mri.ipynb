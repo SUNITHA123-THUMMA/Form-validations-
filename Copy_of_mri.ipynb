{
  "cells": [
    {
      "cell_type": "markdown",
      "metadata": {
        "id": "view-in-github",
        "colab_type": "text"
      },
      "source": [
        "<a href=\"https://colab.research.google.com/github/SUNITHA123-THUMMA/Form-validations-/blob/main/Copy_of_mri.ipynb\" target=\"_parent\"><img src=\"https://colab.research.google.com/assets/colab-badge.svg\" alt=\"Open In Colab\"/></a>"
      ]
    },
    {
      "cell_type": "markdown",
      "metadata": {
        "id": "qOCBaBPIaNf9"
      },
      "source": [
        "# Introduction"
      ]
    },
    {
      "cell_type": "markdown",
      "metadata": {
        "id": "7eXpVWpRAuzh"
      },
      "source": []
    },
    {
      "cell_type": "code",
      "execution_count": 1,
      "metadata": {
        "colab": {
          "base_uri": "https://localhost:8080/"
        },
        "id": "xh8GZ9VkCz6o",
        "outputId": "34390f6e-c487-43ba-aa0b-d94584ddb165"
      },
      "outputs": [
        {
          "output_type": "stream",
          "name": "stdout",
          "text": [
            "Mounted at /content/gdrive/\n"
          ]
        }
      ],
      "source": [
        "from google.colab import drive\n",
        "drive.mount(\"/content/gdrive/\", force_remount=True)\n",
        "#drive.mount('/content/gdrive/') "
      ]
    },
    {
      "cell_type": "code",
      "execution_count": 2,
      "metadata": {
        "colab": {
          "base_uri": "https://localhost:8080/"
        },
        "id": "R7tg7Fp1C4d4",
        "outputId": "297d2a74-68b2-4e92-c613-ad593050db01"
      },
      "outputs": [
        {
          "output_type": "stream",
          "name": "stdout",
          "text": [
            "/content\n",
            "'Colab Notebooks'   DISPLAY\t  jungkook  'MINI FINAL'     RVC\n",
            " DataSet\t    G_24000.pth   kksDocs    Mini-Projecet\n"
          ]
        }
      ],
      "source": [
        "import os\n",
        "root_path = 'gdrive/My Drive/' #MINI FINAL'\n",
        "print(os.getcwd())\n",
        "os.chdir(root_path)\n",
        "!ls"
      ]
    },
    {
      "cell_type": "code",
      "execution_count": 3,
      "metadata": {
        "colab": {
          "base_uri": "https://localhost:8080/"
        },
        "id": "ef4voxBpEabF",
        "outputId": "80c542c8-80e0-4bfc-8bbc-616d4435ba4c"
      },
      "outputs": [
        {
          "output_type": "stream",
          "name": "stdout",
          "text": [
            "/content/gdrive/MyDrive\n"
          ]
        }
      ],
      "source": [
        "print(os.getcwd())"
      ]
    },
    {
      "cell_type": "markdown",
      "metadata": {
        "id": "ZAa46gkVaf1-"
      },
      "source": [
        "# Import Library"
      ]
    },
    {
      "cell_type": "code",
      "execution_count": 4,
      "metadata": {
        "id": "Z50gYUkjPIJ4"
      },
      "outputs": [],
      "source": [
        "from tensorflow.keras.optimizers import Adam\n",
        "from tensorflow.keras.models import load_model, Model, save_model\n",
        "from tensorflow.keras.layers import *\n",
        "from tensorflow.keras.models import Sequential\n",
        "from tensorflow.keras import regularizers as rg\n",
        "from tensorflow.keras.applications.xception import Xception\n",
        "from tensorflow.keras import backend as K\n",
        "import numpy.random as rng\n",
        "import random\n",
        "\n",
        "from matplotlib import pyplot as plt\n",
        "import numpy as np\n",
        "#from datagenerator  import DataGenerator # train query set generator\n",
        "import tensorflow as tf\n",
        "from keras.utils import np_utils\n",
        "import tensorflow"
      ]
    },
    {
      "cell_type": "markdown",
      "metadata": {
        "id": "XhqIfEXzD_T7"
      },
      "source": [
        "There are Basically three parts in this workspace.\n",
        "    \n",
        "\n",
        "1.   Data preparation\n",
        "2.   Sample/episodes generation\n",
        "3.   Model training \n",
        "    \n",
        "\n",
        "1. Data preparation   \n",
        "\n",
        "--.   Unzip image files\n",
        "--.   Read each folder (language) then each folder (alphabets) then each character , resize, reshape it and put on array form.\n",
        "\n"
      ]
    },
    {
      "cell_type": "markdown",
      "metadata": {
        "id": "dNuA8GnMFahH"
      },
      "source": [
        "# Data/sample generation"
      ]
    },
    {
      "cell_type": "code",
      "execution_count": 5,
      "metadata": {
        "id": "MxnAch0Y507-"
      },
      "outputs": [],
      "source": [
        "import numpy as np\n",
        "import os\n",
        "import matplotlib.pyplot as plt\n",
        "from tqdm import tqdm\n",
        "#from scipy.misc import imresize\n",
        "import cv2"
      ]
    },
    {
      "cell_type": "code",
      "execution_count": 6,
      "metadata": {
        "colab": {
          "base_uri": "https://localhost:8080/"
        },
        "id": "R6diWOMP7fbF",
        "outputId": "b45c8a46-9cb6-474f-b636-5e7015cd6375"
      },
      "outputs": [
        {
          "output_type": "stream",
          "name": "stdout",
          "text": [
            "folder1: ['LGG', 'HGG']\n"
          ]
        }
      ],
      "source": [
        "path1 = \"DataSet\"\n",
        "folders_list = os.listdir(path1)\n",
        "print(\"folder1:\",folders_list)\n",
        "folders_list.sort()\n",
        "\n",
        "\n",
        "          "
      ]
    },
    {
      "cell_type": "code",
      "execution_count": 10,
      "metadata": {
        "colab": {
          "base_uri": "https://localhost:8080/"
        },
        "id": "x6WJb34kAU6S",
        "outputId": "043f78e6-76cf-4995-d8ce-7ef8581b11b5"
      },
      "outputs": [
        {
          "output_type": "stream",
          "name": "stderr",
          "text": [
            "100%|██████████| 2/2 [00:00<00:00, 98.44it/s]"
          ]
        },
        {
          "output_type": "stream",
          "name": "stdout",
          "text": [
            "HGG - 1 : 269\n",
            "LGG - 1 : 76\n"
          ]
        },
        {
          "output_type": "stream",
          "name": "stderr",
          "text": [
            "\n"
          ]
        }
      ],
      "source": [
        "i=1\n",
        "for folder in tqdm(folders_list): \n",
        "        path1 = os.path.join(path, folder)\n",
        "        print(folder,'-',i,':',len(os.listdir(path1)))  "
      ]
    },
    {
      "cell_type": "markdown",
      "metadata": {
        "id": "23mcXM8x6upw"
      },
      "source": [
        "# Load Data"
      ]
    },
    {
      "cell_type": "code",
      "execution_count": null,
      "metadata": {
        "id": "7d1SKU0bYvZK"
      },
      "outputs": [],
      "source": []
    },
    {
      "cell_type": "code",
      "execution_count": 8,
      "metadata": {
        "id": "2kwHrfEA6IyX"
      },
      "outputs": [],
      "source": [
        "def loader(path): \n",
        "    sample_train = [];sample_val = [];sample_test = []\n",
        "    label1 = [] ;label2 = [] ;label3 = []    \n",
        "    \n",
        "    folders_list = os.listdir(path)\n",
        "    print(\"folder1:\",len(folders_list))\n",
        "    folders_list.sort()\n",
        "    count = 0;i=0; center=(50,50); scale=1.0;\n",
        "\n",
        "    for folder in tqdm(folders_list): \n",
        "         path1 = os.path.join(path, folder)\n",
        "         print(folder,'-',i,':',len(os.listdir(path1)))                      \n",
        "         try:\n",
        "                                    \n",
        "            for image_name in os.listdir(path1):\n",
        "              sample_images=[]  \n",
        "              for image_name1 in sorted(os.listdir(path1+\"/\"+image_name)):\n",
        "                path2=os.path.join(path1+\"/\"+image_name+\"/\", image_name1)\n",
        "                image = cv2.imread(path2,0)/255 \n",
        "                #print(str(i)+\":\"+ path2+\"\\n\", end = '')                          \n",
        "                sample_images += [image]\n",
        "                if(folder=='HGG'):\n",
        "                  l=0\n",
        "                else:\n",
        "                  l=1\n",
        "              if(i<180 or( i>259 and i<300)):\n",
        "                label1.append(l)\n",
        "                sample_train.append(sample_images)\n",
        "              if((i>180  and i<220) or( i>300 and i<320)):\n",
        "                label2.append(l)\n",
        "                sample_val.append(sample_images)\n",
        "              if((i>220  and i<259) or i>320):\n",
        "                label3.append(l)\n",
        "                sample_test.append(sample_images)\n",
        "              i+=1\n",
        "              #print(\"\\n\")\n",
        "         except NotADirectoryError:\n",
        "              print(f\"Cannot load from {path1}\")\n",
        "    \n",
        "        \n",
        "    print(\"count:\",count)\n",
        "    return sample_train,sample_val,sample_test, label1,label2,label3\n",
        "\n"
      ]
    },
    {
      "cell_type": "code",
      "execution_count": 14,
      "metadata": {
        "colab": {
          "base_uri": "https://localhost:8080/"
        },
        "id": "tZgdv_AP6V_P",
        "outputId": "f906784d-d461-4209-aa9a-c3e9ad0f494d"
      },
      "outputs": [
        {
          "output_type": "stream",
          "name": "stdout",
          "text": [
            "folder1: 2\n"
          ]
        },
        {
          "output_type": "stream",
          "name": "stderr",
          "text": [
            "\r  0%|          | 0/2 [00:00<?, ?it/s]"
          ]
        },
        {
          "output_type": "stream",
          "name": "stdout",
          "text": [
            "HGG - 0 : 269\n"
          ]
        },
        {
          "output_type": "stream",
          "name": "stderr",
          "text": [
            "\r 50%|█████     | 1/2 [05:42<05:42, 342.59s/it]"
          ]
        },
        {
          "output_type": "stream",
          "name": "stdout",
          "text": [
            "LGG - 269 : 76\n"
          ]
        },
        {
          "output_type": "stream",
          "name": "stderr",
          "text": [
            "100%|██████████| 2/2 [09:48<00:00, 294.02s/it]"
          ]
        },
        {
          "output_type": "stream",
          "name": "stdout",
          "text": [
            "count: 0\n",
            "(220,)\n"
          ]
        },
        {
          "output_type": "stream",
          "name": "stderr",
          "text": [
            "\n",
            "<ipython-input-14-4eb27bc825f1>:4: VisibleDeprecationWarning: Creating an ndarray from ragged nested sequences (which is a list-or-tuple of lists-or-tuples-or ndarrays with different lengths or shapes) is deprecated. If you meant to do this, you must specify 'dtype=object' when creating the ndarray.\n",
            "  print(np.array(sample_train).shape)\n"
          ]
        }
      ],
      "source": [
        "path=\"DataSet\"\n",
        "sample_train,sample_val,sample_test, label1,label2,label3 = loader(path)\n",
        "\n",
        "print(np.array(sample_train).shape)\n",
        "#print(np.array(Label).shape)\n",
        "\n",
        "\n",
        "\n"
      ]
    },
    {
      "cell_type": "code",
      "execution_count": 16,
      "metadata": {
        "colab": {
          "base_uri": "https://localhost:8080/",
          "height": 235
        },
        "id": "83i3DbTrNred",
        "outputId": "b6aa7a60-da12-4981-dfa6-6d91a81bf904"
      },
      "outputs": [
        {
          "output_type": "error",
          "ename": "NameError",
          "evalue": "ignored",
          "traceback": [
            "\u001b[0;31m---------------------------------------------------------------------------\u001b[0m",
            "\u001b[0;31mNameError\u001b[0m                                 Traceback (most recent call last)",
            "\u001b[0;32m<ipython-input-16-9b4070ebc0ff>\u001b[0m in \u001b[0;36m<cell line: 2>\u001b[0;34m()\u001b[0m\n\u001b[1;32m      1\u001b[0m \u001b[0mx\u001b[0m\u001b[0;34m=\u001b[0m\u001b[0;34m[\u001b[0m\u001b[0;34m]\u001b[0m \u001b[0;31m#np.zeros((345,15,231,231,3))\u001b[0m\u001b[0;34m\u001b[0m\u001b[0;34m\u001b[0m\u001b[0m\n\u001b[1;32m      2\u001b[0m \u001b[0;32mfor\u001b[0m \u001b[0mi\u001b[0m \u001b[0;32min\u001b[0m \u001b[0mrange\u001b[0m \u001b[0;34m(\u001b[0m\u001b[0;36m345\u001b[0m\u001b[0;34m)\u001b[0m\u001b[0;34m:\u001b[0m\u001b[0;34m\u001b[0m\u001b[0;34m\u001b[0m\u001b[0m\n\u001b[0;32m----> 3\u001b[0;31m   \u001b[0mx\u001b[0m\u001b[0;34m.\u001b[0m\u001b[0mappend\u001b[0m\u001b[0;34m(\u001b[0m\u001b[0mlist\u001b[0m\u001b[0;34m(\u001b[0m\u001b[0mSample\u001b[0m\u001b[0;34m[\u001b[0m\u001b[0mi\u001b[0m\u001b[0;34m]\u001b[0m\u001b[0;34m)\u001b[0m\u001b[0;34m)\u001b[0m\u001b[0;34m\u001b[0m\u001b[0;34m\u001b[0m\u001b[0m\n\u001b[0m\u001b[1;32m      4\u001b[0m \u001b[0;34m\u001b[0m\u001b[0m\n\u001b[1;32m      5\u001b[0m \u001b[0mprint\u001b[0m\u001b[0;34m(\u001b[0m\u001b[0mnp\u001b[0m\u001b[0;34m.\u001b[0m\u001b[0marray\u001b[0m\u001b[0;34m(\u001b[0m\u001b[0mx\u001b[0m\u001b[0;34m)\u001b[0m\u001b[0;34m.\u001b[0m\u001b[0mshape\u001b[0m\u001b[0;34m)\u001b[0m\u001b[0;34m\u001b[0m\u001b[0;34m\u001b[0m\u001b[0m\n",
            "\u001b[0;31mNameError\u001b[0m: name 'Sample' is not defined"
          ]
        }
      ],
      "source": [
        "x=[] #np.zeros((345,15,231,231,3))\n",
        "for i in range (345):\n",
        "  x.append(list(Sample[i]))\n",
        "\n",
        "print(np.array(x).shape)"
      ]
    },
    {
      "cell_type": "code",
      "execution_count": null,
      "metadata": {
        "colab": {
          "base_uri": "https://localhost:8080/"
        },
        "id": "cnV_R3KK-dSA",
        "outputId": "87448984-c710-46b4-9d74-81739a933133"
      },
      "outputs": [
        {
          "output_type": "execute_result",
          "data": {
            "text/plain": [
              "(15, 231, 231)"
            ]
          },
          "metadata": {},
          "execution_count": 15
        }
      ],
      "source": [
        "np.array(Sample[1]).shape"
      ]
    },
    {
      "cell_type": "code",
      "execution_count": null,
      "metadata": {
        "id": "52to-tmVL6Fm"
      },
      "outputs": [],
      "source": [
        "Label"
      ]
    },
    {
      "cell_type": "code",
      "execution_count": 17,
      "metadata": {
        "colab": {
          "base_uri": "https://localhost:8080/",
          "height": 235
        },
        "id": "kCbGmBH56pdO",
        "outputId": "ff89bc15-7a31-4b42-9ff2-a4696c3668a4"
      },
      "outputs": [
        {
          "output_type": "error",
          "ename": "NameError",
          "evalue": "ignored",
          "traceback": [
            "\u001b[0;31m---------------------------------------------------------------------------\u001b[0m",
            "\u001b[0;31mNameError\u001b[0m                                 Traceback (most recent call last)",
            "\u001b[0;32m<ipython-input-17-7dfad822435f>\u001b[0m in \u001b[0;36m<cell line: 1>\u001b[0;34m()\u001b[0m\n\u001b[0;32m----> 1\u001b[0;31m \u001b[0msampleData\u001b[0m\u001b[0;34m=\u001b[0m\u001b[0mnp\u001b[0m\u001b[0;34m.\u001b[0m\u001b[0marray\u001b[0m\u001b[0;34m(\u001b[0m\u001b[0mSample\u001b[0m\u001b[0;34m[\u001b[0m\u001b[0;36m1\u001b[0m\u001b[0;34m]\u001b[0m\u001b[0;34m)\u001b[0m\u001b[0;34m.\u001b[0m\u001b[0mastype\u001b[0m\u001b[0;34m(\u001b[0m\u001b[0;34m'float32'\u001b[0m\u001b[0;34m)\u001b[0m\u001b[0;34m/\u001b[0m\u001b[0;36m255\u001b[0m\u001b[0;34m\u001b[0m\u001b[0;34m\u001b[0m\u001b[0m\n\u001b[0m\u001b[1;32m      2\u001b[0m \u001b[0mx_train1\u001b[0m\u001b[0;34m=\u001b[0m\u001b[0msampleData\u001b[0m\u001b[0;34m[\u001b[0m\u001b[0;34m:\u001b[0m\u001b[0;36m200\u001b[0m\u001b[0;34m]\u001b[0m\u001b[0;34m;\u001b[0m \u001b[0my_train1\u001b[0m \u001b[0;34m=\u001b[0m \u001b[0mLabel\u001b[0m\u001b[0;34m[\u001b[0m\u001b[0;34m:\u001b[0m\u001b[0;36m200\u001b[0m\u001b[0;34m]\u001b[0m\u001b[0;34m\u001b[0m\u001b[0;34m\u001b[0m\u001b[0m\n\u001b[1;32m      3\u001b[0m \u001b[0;34m\u001b[0m\u001b[0m\n\u001b[1;32m      4\u001b[0m \u001b[0mprint\u001b[0m\u001b[0;34m(\u001b[0m\u001b[0mx_train1\u001b[0m\u001b[0;34m.\u001b[0m\u001b[0mshape\u001b[0m\u001b[0;34m,\u001b[0m \u001b[0mlen\u001b[0m\u001b[0;34m(\u001b[0m\u001b[0my_train1\u001b[0m\u001b[0;34m)\u001b[0m\u001b[0;34m)\u001b[0m\u001b[0;34m\u001b[0m\u001b[0;34m\u001b[0m\u001b[0m\n\u001b[1;32m      5\u001b[0m \u001b[0;31m#.....................................................................\u001b[0m\u001b[0;34m\u001b[0m\u001b[0;34m\u001b[0m\u001b[0m\n",
            "\u001b[0;31mNameError\u001b[0m: name 'Sample' is not defined"
          ]
        }
      ],
      "source": [
        "sampleData=np.array(Sample[1]).astype('float32')/255\n",
        "x_train1=sampleData[:200]; y_train1 = Label[:200]\n",
        "\n",
        "print(x_train1.shape, len(y_train1))\n",
        "#.....................................................................\n",
        "x_val1=sampleData[200:]; y_val1 = Label[200:]\n",
        "\n",
        "print(x_val1.shape, len(y_val1))"
      ]
    },
    {
      "cell_type": "markdown",
      "metadata": {
        "id": "0wWExHuRZVtw"
      },
      "source": [
        "# Episode Generation "
      ]
    },
    {
      "cell_type": "code",
      "execution_count": null,
      "metadata": {
        "id": "BI9sf650BEqx"
      },
      "outputs": [],
      "source": [
        "import random\n",
        "train_way = 5\n",
        "val_way = 5\n",
        "query =1\n",
        "shot = 3\n",
        "\n",
        "#indexx = random.sample(list(y_train), train_way ) \n",
        "def blur(img):\n",
        "  img=np.reshape(img, (100,100,3))\n",
        "  img2= cv2.GaussianBlur(img,(3,3),0)\n",
        "  return img2\n",
        "def flip (img):  \n",
        "  img=np.reshape(img, (100,100,3))\n",
        "  img2= cv2.flip(img, 1)\n",
        "  return img2 #np.expand_dims(img2, axis=-1)\n",
        "\n",
        "def contrast(img):    \n",
        "    g=random.sample([1.2,0.8], 1) \n",
        "    return img**g\n",
        "    \n",
        "class Data_GeneratorFace(tf.keras.utils.Sequence):\n",
        "    'Generates data for Keras'\n",
        "    #def __init__(self, datatype='train', dim=(32,32), n_channels=1, way=20, shot=1, query=1, num_batch=10):\n",
        "    def __init__(self, datatype='train', dim=(28,28), n_channels=1, way=20,vway=20, shot=1, query=1, num_batch=10):\n",
        "        'Initialization'\n",
        "        self.data=x_train1\n",
        "        self.y=y_train1\n",
        "        if(datatype=='val'):\n",
        "          self.data=x_val1\n",
        "          self.y=y_val1\n",
        "        if(datatype=='test'):\n",
        "          self.data=x_test1\n",
        "          self.y=y_test1\n",
        "        self.dim = dim\n",
        "        self.n_channels = n_channels\n",
        "        #print(num_per_class)\n",
        "        self.num_batch = num_batch\n",
        "        self.n_classes = len(self.data)\n",
        "        self.on_epoch_end()\n",
        "        self.way = way\n",
        "        self.vway = vway\n",
        "        self.shot = shot\n",
        "        self.query = query        \n",
        "\n",
        "    def __len__(self):\n",
        "        'Denotes the number of batches per epoch'\n",
        "        return self.num_batch\n",
        "    def __getitem__(self,index):\n",
        "        'Generate one batch of data'\n",
        "        X_sample, X_query, label = self.__data_generation()\n",
        "        return [X_sample, X_query], label\n",
        "\n",
        "    def on_epoch_end(self):\n",
        "        'Updates indexes after each epoch'\n",
        "        pass\n",
        "\n",
        "    def __data_generation(self):\n",
        "        n_classes=np.unique(self.y)       \n",
        "        X_sample = []; #np.empty((way, shot, *dim))\n",
        "        X_query = [] #np.empty((way, query, *dim))    \n",
        "        label = np.zeros((self.vway*self.query,self.way))\n",
        "        #label = -0.001*np.ones((self.way*self.query,self.way))\n",
        "        idx = random.sample(list(n_classes), self.way+1) \n",
        "        index1 = [np.where(self.y == i)[0] for i in idx]\n",
        "\n",
        "        for i in range(self.way):\n",
        "            X_temp = []; #L=len(list(index1[i]));       if(L<self.shot):print(list(index1[i]))\n",
        "            sample_idx1 = random.sample(list(index1[i]), self.shot)\n",
        "            for s in range(self.shot):\n",
        "              img= self.data[sample_idx1[s]]\n",
        "              im=[img,flip(img),img**0.8,img**1.2]\n",
        "              r1=random.sample([0,1,2,3],1)[0]\n",
        "              X_temp+= [im[r1]] \n",
        "              #X_temp+= [contrast(img)]            \n",
        "            X_sample.append(X_temp)\n",
        "  \n",
        "        idx2 =np.arange(self.way); np.random.shuffle(idx2)\n",
        "         \n",
        "        for j in range(self.vway):   \n",
        "              X_tempp = []; z=1;k=k1=idx2[j]; p= random.sample([0,1],1)[0] \n",
        "              if(self.way==1 and p==1):\n",
        "                z=0; k1=1;               \n",
        "              sample_idx2 = random.sample(list(index1[k1]), self.query) \n",
        "              for q in range(self.query):                \n",
        "                  img=self.data[sample_idx2[q]]\n",
        "                  im=[img,flip(img),img**0.8,img**1.2]\n",
        "                  r=random.sample([0,1,2,3],1)[0]\n",
        "                  #X_tempp+= [img] \n",
        "                  X_tempp+= [im[r]]                 \n",
        "                  X_query.append(X_tempp)            \n",
        "                  label[j*self.query+q,k]= z  \n",
        "                  #label[j,idx2[j]]= 1   \n",
        "              #X_query.append(X_temp)  \n",
        "        return np.array(X_sample), np.array(X_query), np.reshape(np.diag(label),(-1,1))\n",
        "        \n",
        "       \n",
        "train_loader = Data_GeneratorFace(way=train_way,vway=val_way,datatype='train',query=query, shot=shot, num_batch=100)\n",
        "val_loader = Data_GeneratorFace(way=train_way,vway=val_way, datatype='val',query=query, shot=shot, num_batch=100)\n",
        "(x,y),z=train_loader[0]\n",
        "print(x.shape,y.shape,z.shape)   \n",
        "print(z)    \n",
        "       \n",
        "\n",
        "\n",
        "(x,y),z=train_loader[0]\n",
        "print(z, y[1,0].shape)\n",
        "val_way=5\n",
        "fig, axs = plt.subplots(val_way, 3)\n",
        "\n",
        "for i in range(val_way):\n",
        "     axs[i, 0].imshow(x[i,0],cmap=\"gray_r\")\n",
        "     axs[i, 1].imshow(x[i,1],cmap=\"gray_r\")\n",
        "     axs[i, 2].imshow(y[i,0],cmap=\"gray_r\")\n",
        "\n"
      ]
    },
    {
      "cell_type": "markdown",
      "metadata": {
        "id": "WoUGjXFkPaxk"
      },
      "source": [
        "# Episode Generation new"
      ]
    },
    {
      "cell_type": "code",
      "execution_count": null,
      "metadata": {
        "colab": {
          "base_uri": "https://localhost:8080/",
          "height": 235
        },
        "id": "uvYE1fJUOXnO",
        "outputId": "5298fdaf-ac4c-47ab-e7e3-d857ea6baf70"
      },
      "outputs": [
        {
          "ename": "NameError",
          "evalue": "ignored",
          "output_type": "error",
          "traceback": [
            "\u001b[0;31m---------------------------------------------------------------------------\u001b[0m",
            "\u001b[0;31mNameError\u001b[0m                                 Traceback (most recent call last)",
            "\u001b[0;32m<ipython-input-6-2005e486bbff>\u001b[0m in \u001b[0;36m<module>\u001b[0;34m\u001b[0m\n\u001b[0;32m----> 1\u001b[0;31m \u001b[0mx_test\u001b[0m\u001b[0;34m=\u001b[0m\u001b[0mdf\u001b[0m\u001b[0;34m[\u001b[0m\u001b[0;34m'images'\u001b[0m\u001b[0;34m]\u001b[0m\u001b[0;34m;\u001b[0m \u001b[0my_test\u001b[0m \u001b[0;34m=\u001b[0m \u001b[0mdf\u001b[0m\u001b[0;34m[\u001b[0m\u001b[0;34m'labels'\u001b[0m\u001b[0;34m]\u001b[0m\u001b[0;34m\u001b[0m\u001b[0;34m\u001b[0m\u001b[0m\n\u001b[0m\u001b[1;32m      2\u001b[0m \u001b[0mx_test\u001b[0m \u001b[0;34m=\u001b[0m \u001b[0mx_test\u001b[0m\u001b[0;34m.\u001b[0m\u001b[0mastype\u001b[0m\u001b[0;34m(\u001b[0m\u001b[0;34m'float32'\u001b[0m\u001b[0;34m)\u001b[0m\u001b[0;34m\u001b[0m\u001b[0;34m\u001b[0m\u001b[0m\n\u001b[1;32m      3\u001b[0m \u001b[0mx_test\u001b[0m \u001b[0;34m/=\u001b[0m \u001b[0;36m255\u001b[0m\u001b[0;34m\u001b[0m\u001b[0;34m\u001b[0m\u001b[0m\n\u001b[1;32m      4\u001b[0m \u001b[0mprint\u001b[0m\u001b[0;34m(\u001b[0m\u001b[0mx_test\u001b[0m\u001b[0;34m.\u001b[0m\u001b[0mshape\u001b[0m\u001b[0;34m,\u001b[0m \u001b[0my_test\u001b[0m\u001b[0;34m.\u001b[0m\u001b[0mshape\u001b[0m\u001b[0;34m)\u001b[0m\u001b[0;34m\u001b[0m\u001b[0;34m\u001b[0m\u001b[0m\n\u001b[1;32m      5\u001b[0m \u001b[0;34m\u001b[0m\u001b[0m\n",
            "\u001b[0;31mNameError\u001b[0m: name 'df' is not defined"
          ]
        }
      ],
      "source": [
        "x_test=df['images']; y_test = df['labels']\n",
        "x_test = x_test.astype('float32')\n",
        "x_test /= 255\n",
        "print(x_test.shape, y_test.shape)\n",
        "\n",
        "class Data_GeneratorRavi(tf.keras.utils.Sequence):\n",
        "    'Generates data for Keras'\n",
        "    #def __init__(self, datatype='train', dim=(32,32), n_channels=1, way=20, shot=1, query=1, num_batch=10):\n",
        "    def __init__(self, datatype='train', dim=(28,28),num_per_class=1, n_channels=1, way=20,vway=20, shot=1, query=1, num_batch=10):\n",
        "        'Initialization'\n",
        "        self.data=x_train\n",
        "        self.y=y_train\n",
        "        if(datatype=='val'):\n",
        "          self.data=x_val\n",
        "          self.y=y_val\n",
        "        if(datatype=='test'):\n",
        "          self.data=x_test\n",
        "          self.y=y_test\n",
        "        self.dim = dim\n",
        "        self.n_channels = n_channels\n",
        "        #print(num_per_class)\n",
        "        self.num_batch = num_batch\n",
        "        self.n_classes = len(self.data)\n",
        "        self.on_epoch_end()\n",
        "        self.way = way\n",
        "        self.vway = vway\n",
        "        self.shot = shot\n",
        "        self.query = 1         \n",
        "\n",
        "    def __len__(self):\n",
        "        'Denotes the number of batches per epoch'\n",
        "        return self.num_batch\n",
        "    def __getitem__(self,index):\n",
        "        'Generate one batch of data'\n",
        "        X_sample, X_query, label = self.__data_generation()\n",
        "        return [X_sample, X_query], label\n",
        "\n",
        "    def on_epoch_end(self):\n",
        "        'Updates indexes after each epoch'\n",
        "        pass\n",
        "\n",
        "    def __data_generation(self):\n",
        "        n_classes=np.unique(self.y)       \n",
        "        X_sample = []; #np.empty((way, shot, *dim))\n",
        "        X_query = [] #np.empty((way, query, *dim))    \n",
        "        label = np.zeros((self.way*self.query,self.way))\n",
        "        idx = random.sample(list(n_classes), self.way) \n",
        "        index1 = [np.where(self.y == i)[0] for i in idx]\n",
        "\n",
        "        for i in range(self.way):\n",
        "            X_temp = []\n",
        "            sample_idx1 = random.sample(list(index1[i]), self.shot)\n",
        "            for s in range(self.shot):\n",
        "              X_temp+= [self.data[sample_idx1[s]]]\n",
        "            X_sample.append(X_temp)\n",
        "  \n",
        "        idx2 =np.arange(self.way); np.random.shuffle(idx2)\n",
        "                           \n",
        "        for j in range(self.vway):   \n",
        "            X_temp = [];  \n",
        "            sample_idx2 = random.sample(list(index1[idx2[j]]), self.query) \n",
        "            for q in range(self.query):\n",
        "              X_temp+= [self.data[sample_idx2[q]]]              \n",
        "              #k=np.argwhere(index1 == idx2[j])\n",
        "              label[j,idx2[j]]= 1   \n",
        "            X_query.append(X_temp) \n",
        "            \n",
        "        if (self.vway<self.way):\n",
        "          k = random.sample(list(idx2), 1) \n",
        "          sample_idx2 = random.sample(list(index1[k[0]]), self.query)       \n",
        "          for j in range( self.vway,self.way):    \n",
        "              X_query.append([self.data[sample_idx2[0]]])\n",
        "              label[j,k]= 1 \n",
        "       \n",
        "        return np.array(X_sample), np.array(X_query), label\n",
        "        \n",
        "       "
      ]
    },
    {
      "cell_type": "code",
      "execution_count": null,
      "metadata": {
        "colab": {
          "base_uri": "https://localhost:8080/"
        },
        "id": "S15LUFgAbuRz",
        "outputId": "1a30691d-2f77-4e2f-eade-4ea2530b696e"
      },
      "outputs": [
        {
          "name": "stdout",
          "output_type": "stream",
          "text": [
            "3\n"
          ]
        }
      ],
      "source": [
        "idx2 =np.arange(5);\n",
        "k = random.sample(list(idx2), 1) \n",
        "print(k[0])\n",
        " "
      ]
    },
    {
      "cell_type": "markdown",
      "metadata": {
        "id": "SHavO1DAHK3B"
      },
      "source": [
        "# 3. Model Initialization \n",
        "\n",
        "---\n",
        "\n"
      ]
    },
    {
      "cell_type": "code",
      "execution_count": null,
      "metadata": {
        "id": "04aYMiaFPX5Q"
      },
      "outputs": [],
      "source": [
        "\n",
        "lr = 0.001\n",
        "eps = 1e-12\n",
        "\n",
        "def W_init(shape,name=None):\n",
        "    \"\"\"Initialize weights as in paper\"\"\"\n",
        "    values = rng.normal(loc=0,scale=1e-2,size=shape)\n",
        "    return K.variable(values,name=name)\n",
        "\n",
        "def b_init(shape,name=None):\n",
        "    \"\"\"Initialize bias as in paper\"\"\"\n",
        "    values=rng.normal(loc=0.5,scale=1e-2,size=shape)\n",
        "    return K.variable(values,name=name)\n",
        "\n",
        "#build convnet to use in each siamese 'leg'\n",
        "def conv_net(dim):\n",
        "    convnet = Sequential()\t  \n",
        "    for i in range(4):\n",
        "        convnet.add(Conv2D(64,(3,3),padding='same',input_shape=dim))\n",
        "        convnet.add(BatchNormalization())\n",
        "        convnet.add(Activation('relu'))\n",
        "        convnet.add(MaxPooling2D())\n",
        "    convnet.add(Flatten())\n",
        "    return convnet\n",
        "\n",
        "\t\n",
        "def proto_dist(x):  # Negative softmax distance measure\n",
        "    feature, pred = x\n",
        "    pred_dist = tf.reduce_sum(pred ** 2, axis=1, keepdims=True)\n",
        "    feature_dist = tf.reduce_sum(feature ** 2, axis=1, keepdims=True)\n",
        "    #print(pred_dist.shape);  print(feature_dist.shape)\n",
        "    dot = tf.matmul(pred, tf.transpose(feature))\n",
        "    #print(dot.shape)\n",
        "    return tf.nn.softmax(-(tf.sqrt(pred_dist + tf.transpose(feature_dist) - 2 * dot)))\t\n",
        "\n",
        "def radialBasis_dist1(x):  # Radial Basis\n",
        "    feature, pred = x; \n",
        "    pred_dist = tf.reduce_sum(pred ** 2, axis=1, keepdims=True)\n",
        "    feature_dist = tf.reduce_sum(feature ** 2, axis=1, keepdims=True)\n",
        "    #print(pred_dist.shape);  print(feature_dist.shape)\n",
        "    dot = tf.matmul(pred, tf.transpose(feature))\n",
        "    dist=pred_dist + tf.transpose(feature_dist) - 2 * dot\n",
        "    return tf.exp(-(dist/(2*25)))\n",
        "\n",
        "def poly_dist2(x):\n",
        "  xm, yy = x\n",
        "  #yyy=xm-yy\n",
        "  zz=tf.matmul(yy, tf.transpose(xm)) +1\n",
        "  P = zz #*zz #tf.matmul(zz,tf.transpose(zz))\n",
        "  return tf.nn.softmax((P))\n",
        "\n",
        "def reduce_tensor(x):\n",
        "    y=tf.reduce_mean(x, axis=1)\n",
        "    return y\n",
        "\n",
        "\n",
        "def reshape_query(x):  # reshape query output to  dimention 64*query,1\n",
        "    y=tf.reshape(x, [-1, tf.shape(x)[-1]]) \n",
        "    return y  \n",
        "\n",
        "def conv_net80(dim):\n",
        "    f=64\n",
        "    convnet = Sequential()\t  \n",
        "    for i in range(4):\n",
        "        if(i==2):\n",
        "          f=80\n",
        "        convnet.add(Conv2D(f,(3,3),padding='same',input_shape=dim))\n",
        "        #convnet.add(Dropout(0.1))\n",
        "        convnet.add(BatchNormalization())\n",
        "        convnet.add(Activation('relu'))\n",
        "        convnet.add(MaxPooling2D())                \n",
        "    convnet.add(Flatten())\n",
        "    return convnet\n",
        "\n",
        "def normalise(xx):\n",
        "   \n",
        "    std = tf.reshape(tf.math.reduce_std(xx,axis=1),(1,-1))\n",
        "    meanFeature = tf.reshape(tf.reduce_mean(xx,axis=1),(1,-1))  \n",
        "    out_feature = tf.transpose((tf.transpose(xx)- meanFeature)/std)    \n",
        "    return out_feature\n",
        "\n",
        "\n",
        "def Dev_net2(dim):    \n",
        "    model = Sequential()\n",
        "    model.add(Conv2D(filters=train_way, kernel_size=(3,1),padding='same', activation='relu', input_shape=dim))\n",
        "    model.add(BatchNormalization())\n",
        "    model.add(Conv2D(filters=train_way, kernel_size=(3,1),padding='same', activation='relu'))\n",
        "    model.add(BatchNormalization())\n",
        "    model.add(Conv2D(filters=1, kernel_size=(3,1), padding='same', activation='sigmoid')) \n",
        "    return model\n",
        "\n",
        "def Bias_net1(dim):    \n",
        "    model = Sequential()\n",
        "    model.add(Conv2D(filters = 3*train_way, kernel_size =(3,1),padding ='same', activation ='linear', input_shape = dim))\n",
        "    model.add(BatchNormalization())\n",
        "    model.add(Conv2D(filters = train_way, kernel_size =(3,1),padding ='same', activation ='linear')) \n",
        "    model.add(Conv2D(filters = 1, kernel_size =(3,1), padding ='same', activation='linear'))  \n",
        "    model.add(BatchNormalization())     \n",
        "    return model\n",
        "\n",
        "def Bias_net2(dim):    \n",
        "    model = Sequential()\n",
        "    model.add(Conv2D(filters = 3*train_way, kernel_size =(3,1),padding ='same', activation ='linear', input_shape = dim))\n",
        "    model.add(BatchNormalization())\n",
        "    model.add(Conv2D(filters = train_way, kernel_size =(3,1),padding ='same', activation ='linear')) \n",
        "    model.add(Conv2D(filters = 1, kernel_size =(3,1), padding ='same', activation='linear'))  \n",
        "    model.add(BatchNormalization())     \n",
        "    return model\n",
        "\n",
        "\n"
      ]
    },
    {
      "cell_type": "code",
      "execution_count": null,
      "metadata": {
        "colab": {
          "base_uri": "https://localhost:8080/"
        },
        "id": "InmRUgporJ7f",
        "outputId": "a5db8590-7e35-4d70-d454-7157f78da0f0"
      },
      "outputs": [
        {
          "name": "stdout",
          "output_type": "stream",
          "text": [
            "(5, 5, 28, 28, 1) (5, 1, 28, 28, 1) (5, 5)\n",
            "(5, 5, 28, 28, 1) (5, 1, 28, 28, 1) (5, 5)\n",
            "100\n"
          ]
        }
      ],
      "source": [
        "train_way = 5\n",
        "val_way = 5\n",
        "query = 1\n",
        "channels=1\n",
        "shot = 5\n",
        "n=80\n",
        "#train_loader=data_generation(way,shot,query,dim,channels,x_train)\n",
        "#val_loader=data_generation(way,shot,query,dim,channels,x_test)\n",
        "train_loader = Data_GeneratorRavi(way=train_way,vway=val_way,datatype='train',num_per_class=n,query=query, shot=shot, num_batch=100)\n",
        "val_loader = Data_GeneratorRavi(way=train_way,vway=val_way, datatype='val',num_per_class=n, shot=shot, num_batch=100)\n",
        "(x,y),z=train_loader[0]\n",
        "print(x.shape,y.shape,z.shape)\n",
        "(x1,y1),z1=val_loader[0]\n",
        "print(x1.shape,y1.shape,z1.shape)\n",
        "print(len(train_loader))"
      ]
    },
    {
      "cell_type": "code",
      "execution_count": null,
      "metadata": {
        "id": "1NJY6tPKDpsm"
      },
      "outputs": [],
      "source": [
        "(x,y),z=train_loader[5]\n",
        "z"
      ]
    },
    {
      "cell_type": "markdown",
      "metadata": {
        "id": "3NfzlR3QbP7I"
      },
      "source": [
        "#ProtoNet Model Traning"
      ]
    },
    {
      "cell_type": "markdown",
      "metadata": {
        "id": "OudAtvYqIoNd"
      },
      "source": [
        "###  ProtoNet 5-5"
      ]
    },
    {
      "cell_type": "code",
      "execution_count": null,
      "metadata": {
        "colab": {
          "base_uri": "https://localhost:8080/"
        },
        "id": "ukv6tlUXBQZz",
        "outputId": "240c7155-4ea1-4628-9d6a-88400970e4a0"
      },
      "outputs": [
        {
          "name": "stdout",
          "output_type": "stream",
          "text": [
            "Model: \"model_2\"\n",
            "__________________________________________________________________________________________________\n",
            " Layer (type)                   Output Shape         Param #     Connected to                     \n",
            "==================================================================================================\n",
            " input_5 (InputLayer)           [(None, None, 28, 2  0           []                               \n",
            "                                8, 1)]                                                            \n",
            "                                                                                                  \n",
            " input_6 (InputLayer)           [(None, None, 28, 2  0           []                               \n",
            "                                8, 1)]                                                            \n",
            "                                                                                                  \n",
            " time_distributed_2 (TimeDistri  (None, None, 64)    112448      ['input_5[0][0]',                \n",
            " buted)                                                           'input_6[0][0]']                \n",
            "                                                                                                  \n",
            " lambda_6 (Lambda)              (None, 64)           0           ['time_distributed_2[0][0]']     \n",
            "                                                                                                  \n",
            " lambda_7 (Lambda)              (None, 64)           0           ['time_distributed_2[1][0]']     \n",
            "                                                                                                  \n",
            " lambda_8 (Lambda)              (None, None)         0           ['lambda_6[0][0]',               \n",
            "                                                                  'lambda_7[0][0]']               \n",
            "                                                                                                  \n",
            "==================================================================================================\n",
            "Total params: 112,448\n",
            "Trainable params: 111,936\n",
            "Non-trainable params: 512\n",
            "__________________________________________________________________________________________________\n",
            "None\n",
            "0 :lr: 0.001\n",
            "Epoch 1/150\n"
          ]
        },
        {
          "name": "stderr",
          "output_type": "stream",
          "text": [
            "/usr/local/lib/python3.7/dist-packages/ipykernel_launcher.py:47: UserWarning: `Model.fit_generator` is deprecated and will be removed in a future version. Please use `Model.fit`, which supports generators.\n"
          ]
        },
        {
          "name": "stdout",
          "output_type": "stream",
          "text": [
            "  4/200 [..............................] - ETA: 3s - loss: 1.0510 - categorical_accuracy: 0.6500  WARNING:tensorflow:Callback method `on_train_batch_end` is slow compared to the batch time (batch time: 0.0130s vs `on_train_batch_end` time: 0.0180s). Check your callbacks.\n",
            "196/200 [============================>.] - ETA: 0s - loss: 0.5878 - categorical_accuracy: 0.7888WARNING:tensorflow:Compiled the loaded model, but the compiled metrics have yet to be built. `model.compile_metrics` will be empty until you train or evaluate the model.\n",
            "INFO:tensorflow:Assets written to: model/proto_omniglot_conv_0_1_5/assets\n",
            "200/200 [==============================] - 8s 30ms/step - loss: 0.5825 - categorical_accuracy: 0.7910 - val_loss: nan - val_categorical_accuracy: 0.8020 - lr: 9.0909e-04\n",
            "1 :lr: 0.0009090909090909091\n",
            "Epoch 2/150\n",
            "200/200 [==============================] - 4s 20ms/step - loss: 0.3017 - categorical_accuracy: 0.9100 - val_loss: nan - val_categorical_accuracy: 0.8660 - lr: 9.0909e-04\n",
            "2 :lr: 0.0009090909090909091\n",
            "Epoch 3/150\n",
            "200/200 [==============================] - 4s 20ms/step - loss: 0.2927 - categorical_accuracy: 0.9170 - val_loss: nan - val_categorical_accuracy: 0.8560 - lr: 9.0909e-04\n",
            "3 :lr: 0.0009090909090909091\n",
            "Epoch 4/150\n",
            "200/200 [==============================] - 4s 19ms/step - loss: 0.2429 - categorical_accuracy: 0.9250 - val_loss: nan - val_categorical_accuracy: 0.8800 - lr: 9.0909e-04\n",
            "4 :lr: 0.0009090909090909091\n",
            "Epoch 5/150\n",
            "200/200 [==============================] - 4s 19ms/step - loss: 0.1847 - categorical_accuracy: 0.9490 - val_loss: nan - val_categorical_accuracy: 0.8940 - lr: 9.0909e-04\n",
            "5 :lr: 0.0009090909090909091\n",
            "Epoch 6/150\n",
            "200/200 [==============================] - 4s 19ms/step - loss: 0.1756 - categorical_accuracy: 0.9460 - val_loss: nan - val_categorical_accuracy: 0.8860 - lr: 9.0909e-04\n",
            "6 :lr: 0.0009090909090909091\n",
            "Epoch 7/150\n",
            "200/200 [==============================] - 4s 20ms/step - loss: 0.1802 - categorical_accuracy: 0.9370 - val_loss: nan - val_categorical_accuracy: 0.8900 - lr: 9.0909e-04\n",
            "7 :lr: 0.0009090909090909091\n",
            "Epoch 8/150\n",
            "200/200 [==============================] - 4s 20ms/step - loss: 0.1558 - categorical_accuracy: 0.9550 - val_loss: nan - val_categorical_accuracy: 0.8980 - lr: 9.0909e-04\n",
            "8 :lr: 0.0009090909090909091\n",
            "Epoch 9/150\n",
            "200/200 [==============================] - 4s 19ms/step - loss: 0.1695 - categorical_accuracy: 0.9440 - val_loss: nan - val_categorical_accuracy: 0.8880 - lr: 9.0909e-04\n",
            "9 :lr: 0.0009090909090909091\n",
            "Epoch 10/150\n",
            "200/200 [==============================] - 4s 19ms/step - loss: 0.1612 - categorical_accuracy: 0.9490 - val_loss: nan - val_categorical_accuracy: 0.9020 - lr: 9.0909e-04\n",
            "10 :lr: 0.0009090909090909091\n",
            "Epoch 11/150\n",
            "200/200 [==============================] - 4s 19ms/step - loss: 0.1227 - categorical_accuracy: 0.9670 - val_loss: nan - val_categorical_accuracy: 0.9020 - lr: 8.2645e-04\n",
            "11 :lr: 0.0008264462809917355\n",
            "Epoch 12/150\n",
            "200/200 [==============================] - 4s 19ms/step - loss: 0.1138 - categorical_accuracy: 0.9700 - val_loss: nan - val_categorical_accuracy: 0.9040 - lr: 8.2645e-04\n",
            "12 :lr: 0.0008264462809917355\n",
            "Epoch 13/150\n",
            "200/200 [==============================] - 4s 19ms/step - loss: 0.1139 - categorical_accuracy: 0.9680 - val_loss: nan - val_categorical_accuracy: 0.9000 - lr: 8.2645e-04\n",
            "13 :lr: 0.0008264462809917355\n",
            "Epoch 14/150\n",
            "200/200 [==============================] - 4s 19ms/step - loss: 0.1179 - categorical_accuracy: 0.9690 - val_loss: nan - val_categorical_accuracy: 0.8960 - lr: 8.2645e-04\n",
            "14 :lr: 0.0008264462809917355\n",
            "Epoch 15/150\n",
            "200/200 [==============================] - 4s 19ms/step - loss: 0.1269 - categorical_accuracy: 0.9580 - val_loss: nan - val_categorical_accuracy: 0.9240 - lr: 8.2645e-04\n",
            "15 :lr: 0.0008264462809917355\n",
            "Epoch 16/150\n",
            "200/200 [==============================] - 4s 19ms/step - loss: 0.1144 - categorical_accuracy: 0.9680 - val_loss: nan - val_categorical_accuracy: 0.8940 - lr: 8.2645e-04\n",
            "16 :lr: 0.0008264462809917355\n",
            "Epoch 17/150\n",
            "200/200 [==============================] - 4s 19ms/step - loss: 0.1205 - categorical_accuracy: 0.9570 - val_loss: nan - val_categorical_accuracy: 0.9440 - lr: 8.2645e-04\n",
            "17 :lr: 0.0008264462809917355\n",
            "Epoch 18/150\n",
            "200/200 [==============================] - 5s 20ms/step - loss: 0.1071 - categorical_accuracy: 0.9700 - val_loss: nan - val_categorical_accuracy: 0.8960 - lr: 8.2645e-04\n",
            "18 :lr: 0.0008264462809917355\n",
            "Epoch 19/150\n",
            "200/200 [==============================] - 4s 19ms/step - loss: 0.1011 - categorical_accuracy: 0.9750 - val_loss: nan - val_categorical_accuracy: 0.8960 - lr: 8.2645e-04\n",
            "19 :lr: 0.0008264462809917355\n",
            "Epoch 20/150\n",
            "200/200 [==============================] - 4s 20ms/step - loss: 0.0692 - categorical_accuracy: 0.9770 - val_loss: nan - val_categorical_accuracy: 0.9260 - lr: 8.2645e-04\n",
            "20 :lr: 0.0008264462809917355\n",
            "Epoch 21/150\n",
            "200/200 [==============================] - 5s 20ms/step - loss: 0.1065 - categorical_accuracy: 0.9640 - val_loss: nan - val_categorical_accuracy: 0.9480 - lr: 7.5131e-04\n",
            "21 :lr: 0.0007513148009015777\n",
            "Epoch 22/150\n",
            "200/200 [==============================] - 5s 20ms/step - loss: 0.0982 - categorical_accuracy: 0.9640 - val_loss: nan - val_categorical_accuracy: 0.9380 - lr: 7.5131e-04\n",
            "22 :lr: 0.0007513148009015777\n",
            "Epoch 23/150\n",
            "200/200 [==============================] - 4s 20ms/step - loss: 0.0912 - categorical_accuracy: 0.9720 - val_loss: nan - val_categorical_accuracy: 0.9300 - lr: 7.5131e-04\n",
            "23 :lr: 0.0007513148009015777\n",
            "Epoch 24/150\n",
            "200/200 [==============================] - 4s 19ms/step - loss: 0.1032 - categorical_accuracy: 0.9620 - val_loss: nan - val_categorical_accuracy: 0.9380 - lr: 7.5131e-04\n",
            "24 :lr: 0.0007513148009015777\n",
            "Epoch 25/150\n",
            "200/200 [==============================] - 4s 19ms/step - loss: 0.0765 - categorical_accuracy: 0.9760 - val_loss: nan - val_categorical_accuracy: 0.9260 - lr: 7.5131e-04\n",
            "25 :lr: 0.0007513148009015777\n",
            "Epoch 26/150\n",
            "200/200 [==============================] - 6s 27ms/step - loss: 0.0843 - categorical_accuracy: 0.9680 - val_loss: nan - val_categorical_accuracy: 0.9420 - lr: 7.5131e-04\n",
            "26 :lr: 0.0007513148009015777\n",
            "Epoch 27/150\n",
            "200/200 [==============================] - 4s 20ms/step - loss: 0.0754 - categorical_accuracy: 0.9780 - val_loss: nan - val_categorical_accuracy: 0.9380 - lr: 7.5131e-04\n",
            "27 :lr: 0.0007513148009015777\n",
            "Epoch 28/150\n",
            "200/200 [==============================] - 4s 20ms/step - loss: 0.0653 - categorical_accuracy: 0.9830 - val_loss: nan - val_categorical_accuracy: 0.9200 - lr: 7.5131e-04\n",
            "28 :lr: 0.0007513148009015777\n",
            "Epoch 29/150\n",
            "200/200 [==============================] - 4s 20ms/step - loss: 0.0835 - categorical_accuracy: 0.9740 - val_loss: nan - val_categorical_accuracy: 0.9260 - lr: 7.5131e-04\n",
            "29 :lr: 0.0007513148009015777\n",
            "Epoch 30/150\n",
            "200/200 [==============================] - 5s 20ms/step - loss: 0.0986 - categorical_accuracy: 0.9710 - val_loss: nan - val_categorical_accuracy: 0.9200 - lr: 7.5131e-04\n",
            "30 :lr: 0.0007513148009015777\n",
            "Epoch 31/150\n",
            "200/200 [==============================] - 4s 19ms/step - loss: 0.0749 - categorical_accuracy: 0.9790 - val_loss: nan - val_categorical_accuracy: 0.9300 - lr: 6.8301e-04\n",
            "31 :lr: 0.0006830134553650705\n",
            "Epoch 32/150\n",
            "200/200 [==============================] - 4s 19ms/step - loss: 0.0575 - categorical_accuracy: 0.9830 - val_loss: nan - val_categorical_accuracy: 0.9340 - lr: 6.8301e-04\n",
            "32 :lr: 0.0006830134553650705\n",
            "Epoch 33/150\n",
            "200/200 [==============================] - 4s 19ms/step - loss: 0.0693 - categorical_accuracy: 0.9740 - val_loss: nan - val_categorical_accuracy: 0.9360 - lr: 6.8301e-04\n",
            "33 :lr: 0.0006830134553650705\n",
            "Epoch 34/150\n",
            "200/200 [==============================] - 4s 20ms/step - loss: 0.0703 - categorical_accuracy: 0.9790 - val_loss: nan - val_categorical_accuracy: 0.9340 - lr: 6.8301e-04\n",
            "34 :lr: 0.0006830134553650705\n",
            "Epoch 35/150\n",
            "200/200 [==============================] - 5s 20ms/step - loss: 0.0655 - categorical_accuracy: 0.9830 - val_loss: nan - val_categorical_accuracy: 0.9460 - lr: 6.8301e-04\n",
            "35 :lr: 0.0006830134553650705\n",
            "Epoch 36/150\n",
            "200/200 [==============================] - 4s 20ms/step - loss: 0.0580 - categorical_accuracy: 0.9840 - val_loss: nan - val_categorical_accuracy: 0.9360 - lr: 6.8301e-04\n",
            "36 :lr: 0.0006830134553650705\n",
            "Epoch 37/150\n",
            "200/200 [==============================] - 4s 20ms/step - loss: 0.0698 - categorical_accuracy: 0.9720 - val_loss: nan - val_categorical_accuracy: 0.9380 - lr: 6.8301e-04\n",
            "37 :lr: 0.0006830134553650705\n",
            "Epoch 38/150\n",
            "200/200 [==============================] - 4s 20ms/step - loss: 0.0812 - categorical_accuracy: 0.9700 - val_loss: 0.1812 - val_categorical_accuracy: 0.9300 - lr: 6.8301e-04\n",
            "38 :lr: 0.0006830134553650705\n",
            "Epoch 39/150\n",
            "200/200 [==============================] - 5s 21ms/step - loss: 0.0599 - categorical_accuracy: 0.9840 - val_loss: nan - val_categorical_accuracy: 0.9540 - lr: 6.8301e-04\n",
            "39 :lr: 0.0006830134553650705\n",
            "Epoch 40/150\n",
            "200/200 [==============================] - 5s 20ms/step - loss: 0.0757 - categorical_accuracy: 0.9770 - val_loss: nan - val_categorical_accuracy: 0.9460 - lr: 6.8301e-04\n",
            "40 :lr: 0.0006830134553650705\n",
            "Epoch 41/150\n",
            "200/200 [==============================] - 5s 21ms/step - loss: 0.0627 - categorical_accuracy: 0.9760 - val_loss: nan - val_categorical_accuracy: 0.9420 - lr: 6.2092e-04\n",
            "41 :lr: 0.0006209213230591549\n",
            "Epoch 42/150\n",
            "200/200 [==============================] - 5s 20ms/step - loss: 0.0614 - categorical_accuracy: 0.9820 - val_loss: nan - val_categorical_accuracy: 0.9420 - lr: 6.2092e-04\n",
            "42 :lr: 0.0006209213230591549\n",
            "Epoch 43/150\n",
            "200/200 [==============================] - 4s 20ms/step - loss: 0.0652 - categorical_accuracy: 0.9810 - val_loss: nan - val_categorical_accuracy: 0.9360 - lr: 6.2092e-04\n",
            "43 :lr: 0.0006209213230591549\n",
            "Epoch 44/150\n",
            "200/200 [==============================] - 4s 20ms/step - loss: 0.0834 - categorical_accuracy: 0.9750 - val_loss: nan - val_categorical_accuracy: 0.9320 - lr: 6.2092e-04\n",
            "44 :lr: 0.0006209213230591549\n",
            "Epoch 45/150\n",
            "200/200 [==============================] - 5s 20ms/step - loss: 0.0640 - categorical_accuracy: 0.9790 - val_loss: nan - val_categorical_accuracy: 0.9500 - lr: 6.2092e-04\n",
            "45 :lr: 0.0006209213230591549\n",
            "Epoch 46/150\n",
            "200/200 [==============================] - 4s 19ms/step - loss: 0.0576 - categorical_accuracy: 0.9820 - val_loss: nan - val_categorical_accuracy: 0.9340 - lr: 6.2092e-04\n",
            "46 :lr: 0.0006209213230591549\n",
            "Epoch 47/150\n",
            "200/200 [==============================] - 5s 20ms/step - loss: 0.0646 - categorical_accuracy: 0.9800 - val_loss: nan - val_categorical_accuracy: 0.9480 - lr: 6.2092e-04\n",
            "47 :lr: 0.0006209213230591549\n",
            "Epoch 48/150\n",
            "200/200 [==============================] - 5s 20ms/step - loss: 0.0498 - categorical_accuracy: 0.9850 - val_loss: nan - val_categorical_accuracy: 0.9540 - lr: 6.2092e-04\n",
            "48 :lr: 0.0006209213230591549\n",
            "Epoch 49/150\n",
            "200/200 [==============================] - 4s 20ms/step - loss: 0.0616 - categorical_accuracy: 0.9810 - val_loss: nan - val_categorical_accuracy: 0.9600 - lr: 6.2092e-04\n",
            "49 :lr: 0.0006209213230591549\n",
            "Epoch 50/150\n",
            "200/200 [==============================] - 4s 19ms/step - loss: 0.0916 - categorical_accuracy: 0.9750 - val_loss: nan - val_categorical_accuracy: 0.9480 - lr: 6.2092e-04\n",
            "50 :lr: 0.0006209213230591549\n",
            "Epoch 51/150\n",
            "200/200 [==============================] - 4s 19ms/step - loss: 0.0490 - categorical_accuracy: 0.9810 - val_loss: nan - val_categorical_accuracy: 0.9420 - lr: 5.6447e-04\n",
            "51 :lr: 0.0005644739300537772\n",
            "Epoch 52/150\n",
            "200/200 [==============================] - 4s 19ms/step - loss: 0.0570 - categorical_accuracy: 0.9810 - val_loss: nan - val_categorical_accuracy: 0.9380 - lr: 5.6447e-04\n",
            "52 :lr: 0.0005644739300537772\n",
            "Epoch 53/150\n",
            "200/200 [==============================] - 4s 20ms/step - loss: 0.0609 - categorical_accuracy: 0.9790 - val_loss: nan - val_categorical_accuracy: 0.9460 - lr: 5.6447e-04\n",
            "53 :lr: 0.0005644739300537772\n",
            "Epoch 54/150\n",
            "200/200 [==============================] - 4s 20ms/step - loss: 0.0510 - categorical_accuracy: 0.9840 - val_loss: nan - val_categorical_accuracy: 0.9440 - lr: 5.6447e-04\n",
            "54 :lr: 0.0005644739300537772\n",
            "Epoch 55/150\n",
            "200/200 [==============================] - 5s 20ms/step - loss: 0.0490 - categorical_accuracy: 0.9860 - val_loss: nan - val_categorical_accuracy: 0.9600 - lr: 5.6447e-04\n",
            "55 :lr: 0.0005644739300537772\n",
            "Epoch 56/150\n",
            "200/200 [==============================] - 4s 19ms/step - loss: 0.0459 - categorical_accuracy: 0.9890 - val_loss: nan - val_categorical_accuracy: 0.9600 - lr: 5.6447e-04\n",
            "56 :lr: 0.0005644739300537772\n",
            "Epoch 57/150\n",
            "200/200 [==============================] - 5s 20ms/step - loss: 0.0674 - categorical_accuracy: 0.9740 - val_loss: nan - val_categorical_accuracy: 0.9500 - lr: 5.6447e-04\n",
            "57 :lr: 0.0005644739300537772\n",
            "Epoch 58/150\n",
            "200/200 [==============================] - 4s 19ms/step - loss: 0.0419 - categorical_accuracy: 0.9890 - val_loss: nan - val_categorical_accuracy: 0.9560 - lr: 5.6447e-04\n",
            "58 :lr: 0.0005644739300537772\n",
            "Epoch 59/150\n",
            "200/200 [==============================] - 5s 20ms/step - loss: 0.0406 - categorical_accuracy: 0.9900 - val_loss: nan - val_categorical_accuracy: 0.9500 - lr: 5.6447e-04\n",
            "59 :lr: 0.0005644739300537772\n",
            "Epoch 60/150\n",
            "200/200 [==============================] - 5s 20ms/step - loss: 0.0573 - categorical_accuracy: 0.9850 - val_loss: nan - val_categorical_accuracy: 0.9340 - lr: 5.6447e-04\n",
            "60 :lr: 0.0005644739300537772\n",
            "Epoch 61/150\n",
            "200/200 [==============================] - 4s 19ms/step - loss: 0.0495 - categorical_accuracy: 0.9870 - val_loss: nan - val_categorical_accuracy: 0.9620 - lr: 5.1316e-04\n",
            "61 :lr: 0.0005131581182307065\n",
            "Epoch 62/150\n",
            "200/200 [==============================] - 4s 19ms/step - loss: 0.0463 - categorical_accuracy: 0.9860 - val_loss: nan - val_categorical_accuracy: 0.9600 - lr: 5.1316e-04\n",
            "62 :lr: 0.0005131581182307065\n",
            "Epoch 63/150\n",
            "200/200 [==============================] - 4s 19ms/step - loss: 0.0537 - categorical_accuracy: 0.9820 - val_loss: nan - val_categorical_accuracy: 0.9460 - lr: 5.1316e-04\n",
            "63 :lr: 0.0005131581182307065\n",
            "Epoch 64/150\n",
            "200/200 [==============================] - 4s 19ms/step - loss: 0.0504 - categorical_accuracy: 0.9880 - val_loss: nan - val_categorical_accuracy: 0.9440 - lr: 5.1316e-04\n",
            "64 :lr: 0.0005131581182307065\n",
            "Epoch 65/150\n",
            "200/200 [==============================] - 4s 20ms/step - loss: 0.0387 - categorical_accuracy: 0.9900 - val_loss: nan - val_categorical_accuracy: 0.9460 - lr: 5.1316e-04\n",
            "65 :lr: 0.0005131581182307065\n",
            "Epoch 66/150\n",
            "200/200 [==============================] - 4s 19ms/step - loss: 0.0451 - categorical_accuracy: 0.9860 - val_loss: nan - val_categorical_accuracy: 0.9580 - lr: 5.1316e-04\n",
            "66 :lr: 0.0005131581182307065\n",
            "Epoch 67/150\n",
            "200/200 [==============================] - 4s 20ms/step - loss: 0.0395 - categorical_accuracy: 0.9880 - val_loss: nan - val_categorical_accuracy: 0.9520 - lr: 5.1316e-04\n",
            "67 :lr: 0.0005131581182307065\n",
            "Epoch 68/150\n",
            "200/200 [==============================] - 4s 19ms/step - loss: 0.0542 - categorical_accuracy: 0.9790 - val_loss: nan - val_categorical_accuracy: 0.9500 - lr: 5.1316e-04\n",
            "68 :lr: 0.0005131581182307065\n",
            "Epoch 69/150\n",
            "200/200 [==============================] - 5s 20ms/step - loss: 0.0568 - categorical_accuracy: 0.9790 - val_loss: nan - val_categorical_accuracy: 0.9360 - lr: 5.1316e-04\n",
            "69 :lr: 0.0005131581182307065\n",
            "Epoch 70/150\n",
            "200/200 [==============================] - 5s 20ms/step - loss: 0.0359 - categorical_accuracy: 0.9870 - val_loss: nan - val_categorical_accuracy: 0.9440 - lr: 5.1316e-04\n",
            "70 :lr: 0.0005131581182307065\n",
            "Epoch 71/150\n",
            "200/200 [==============================] - 4s 19ms/step - loss: 0.0423 - categorical_accuracy: 0.9920 - val_loss: nan - val_categorical_accuracy: 0.9680 - lr: 4.6651e-04\n",
            "71 :lr: 0.0004665073802097331\n",
            "Epoch 72/150\n",
            "200/200 [==============================] - 4s 20ms/step - loss: 0.0470 - categorical_accuracy: 0.9850 - val_loss: 0.0847 - val_categorical_accuracy: 0.9780 - lr: 4.6651e-04\n",
            "72 :lr: 0.0004665073802097331\n",
            "Epoch 73/150\n",
            "200/200 [==============================] - 4s 20ms/step - loss: 0.0374 - categorical_accuracy: 0.9920 - val_loss: nan - val_categorical_accuracy: 0.9660 - lr: 4.6651e-04\n",
            "73 :lr: 0.0004665073802097331\n",
            "Epoch 74/150\n",
            "200/200 [==============================] - 5s 20ms/step - loss: 0.0378 - categorical_accuracy: 0.9910 - val_loss: nan - val_categorical_accuracy: 0.9520 - lr: 4.6651e-04\n",
            "74 :lr: 0.0004665073802097331\n",
            "Epoch 75/150\n",
            "200/200 [==============================] - 5s 20ms/step - loss: 0.0409 - categorical_accuracy: 0.9870 - val_loss: nan - val_categorical_accuracy: 0.9700 - lr: 4.6651e-04\n",
            "75 :lr: 0.0004665073802097331\n",
            "Epoch 76/150\n",
            "200/200 [==============================] - 5s 20ms/step - loss: 0.0442 - categorical_accuracy: 0.9850 - val_loss: nan - val_categorical_accuracy: 0.9640 - lr: 4.6651e-04\n",
            "76 :lr: 0.0004665073802097331\n",
            "Epoch 77/150\n",
            "200/200 [==============================] - 5s 20ms/step - loss: 0.0366 - categorical_accuracy: 0.9910 - val_loss: nan - val_categorical_accuracy: 0.9560 - lr: 4.6651e-04\n",
            "77 :lr: 0.0004665073802097331\n",
            "Epoch 78/150\n",
            "200/200 [==============================] - 5s 20ms/step - loss: 0.0334 - categorical_accuracy: 0.9940 - val_loss: nan - val_categorical_accuracy: 0.9420 - lr: 4.6651e-04\n",
            "78 :lr: 0.0004665073802097331\n",
            "Epoch 79/150\n",
            "200/200 [==============================] - 4s 20ms/step - loss: 0.0470 - categorical_accuracy: 0.9860 - val_loss: nan - val_categorical_accuracy: 0.9600 - lr: 4.6651e-04\n",
            "79 :lr: 0.0004665073802097331\n",
            "Epoch 80/150\n",
            "200/200 [==============================] - 5s 21ms/step - loss: 0.0477 - categorical_accuracy: 0.9850 - val_loss: nan - val_categorical_accuracy: 0.9440 - lr: 4.6651e-04\n",
            "80 :lr: 0.0004665073802097331\n",
            "Epoch 81/150\n",
            "200/200 [==============================] - 5s 20ms/step - loss: 0.0452 - categorical_accuracy: 0.9890 - val_loss: nan - val_categorical_accuracy: 0.9680 - lr: 4.2410e-04\n",
            "81 :lr: 0.00042409761837248464\n",
            "Epoch 82/150\n",
            "200/200 [==============================] - 4s 20ms/step - loss: 0.0412 - categorical_accuracy: 0.9860 - val_loss: nan - val_categorical_accuracy: 0.9600 - lr: 4.2410e-04\n",
            "82 :lr: 0.00042409761837248464\n",
            "Epoch 83/150\n",
            "200/200 [==============================] - 4s 20ms/step - loss: 0.0464 - categorical_accuracy: 0.9840 - val_loss: nan - val_categorical_accuracy: 0.9600 - lr: 4.2410e-04\n",
            "83 :lr: 0.00042409761837248464\n",
            "Epoch 84/150\n",
            "200/200 [==============================] - 4s 20ms/step - loss: 0.0458 - categorical_accuracy: 0.9840 - val_loss: nan - val_categorical_accuracy: 0.9700 - lr: 4.2410e-04\n",
            "84 :lr: 0.00042409761837248464\n",
            "Epoch 85/150\n",
            "200/200 [==============================] - 4s 20ms/step - loss: 0.0402 - categorical_accuracy: 0.9870 - val_loss: nan - val_categorical_accuracy: 0.9620 - lr: 4.2410e-04\n",
            "85 :lr: 0.00042409761837248464\n",
            "Epoch 86/150\n",
            "200/200 [==============================] - 4s 20ms/step - loss: 0.0429 - categorical_accuracy: 0.9860 - val_loss: nan - val_categorical_accuracy: 0.9640 - lr: 4.2410e-04\n",
            "86 :lr: 0.00042409761837248464\n",
            "Epoch 87/150\n",
            "200/200 [==============================] - 5s 21ms/step - loss: 0.0321 - categorical_accuracy: 0.9900 - val_loss: nan - val_categorical_accuracy: 0.9480 - lr: 4.2410e-04\n",
            "87 :lr: 0.00042409761837248464\n",
            "Epoch 88/150\n",
            "200/200 [==============================] - 5s 20ms/step - loss: 0.0429 - categorical_accuracy: 0.9870 - val_loss: nan - val_categorical_accuracy: 0.9640 - lr: 4.2410e-04\n",
            "88 :lr: 0.00042409761837248464\n",
            "Epoch 89/150\n",
            "200/200 [==============================] - 5s 21ms/step - loss: 0.0326 - categorical_accuracy: 0.9890 - val_loss: nan - val_categorical_accuracy: 0.9480 - lr: 4.2410e-04\n",
            "89 :lr: 0.00042409761837248464\n",
            "Epoch 90/150\n",
            "200/200 [==============================] - 5s 21ms/step - loss: 0.0288 - categorical_accuracy: 0.9880 - val_loss: nan - val_categorical_accuracy: 0.9440 - lr: 4.2410e-04\n",
            "90 :lr: 0.00042409761837248464\n",
            "Epoch 91/150\n",
            "200/200 [==============================] - 5s 20ms/step - loss: 0.0386 - categorical_accuracy: 0.9890 - val_loss: nan - val_categorical_accuracy: 0.9560 - lr: 3.8554e-04\n",
            "91 :lr: 0.00038554328942953147\n",
            "Epoch 92/150\n",
            "200/200 [==============================] - 5s 20ms/step - loss: 0.0626 - categorical_accuracy: 0.9810 - val_loss: nan - val_categorical_accuracy: 0.9700 - lr: 3.8554e-04\n",
            "92 :lr: 0.00038554328942953147\n",
            "Epoch 93/150\n",
            "200/200 [==============================] - 5s 20ms/step - loss: 0.0315 - categorical_accuracy: 0.9890 - val_loss: nan - val_categorical_accuracy: 0.9500 - lr: 3.8554e-04\n",
            "93 :lr: 0.00038554328942953147\n",
            "Epoch 94/150\n",
            "200/200 [==============================] - 5s 21ms/step - loss: 0.0342 - categorical_accuracy: 0.9900 - val_loss: nan - val_categorical_accuracy: 0.9580 - lr: 3.8554e-04\n",
            "94 :lr: 0.00038554328942953147\n",
            "Epoch 95/150\n",
            "200/200 [==============================] - 5s 21ms/step - loss: 0.0302 - categorical_accuracy: 0.9880 - val_loss: nan - val_categorical_accuracy: 0.9640 - lr: 3.8554e-04\n",
            "95 :lr: 0.00038554328942953147\n",
            "Epoch 96/150\n",
            "200/200 [==============================] - 5s 20ms/step - loss: 0.0469 - categorical_accuracy: 0.9870 - val_loss: nan - val_categorical_accuracy: 0.9680 - lr: 3.8554e-04\n",
            "96 :lr: 0.00038554328942953147\n",
            "Epoch 97/150\n",
            "200/200 [==============================] - 5s 20ms/step - loss: 0.0361 - categorical_accuracy: 0.9870 - val_loss: nan - val_categorical_accuracy: 0.9740 - lr: 3.8554e-04\n",
            "97 :lr: 0.00038554328942953147\n",
            "Epoch 98/150\n",
            "200/200 [==============================] - 4s 21ms/step - loss: 0.0363 - categorical_accuracy: 0.9890 - val_loss: nan - val_categorical_accuracy: 0.9500 - lr: 3.8554e-04\n",
            "98 :lr: 0.00038554328942953147\n",
            "Epoch 99/150\n",
            "200/200 [==============================] - 5s 20ms/step - loss: 0.0301 - categorical_accuracy: 0.9910 - val_loss: nan - val_categorical_accuracy: 0.9600 - lr: 3.8554e-04\n",
            "99 :lr: 0.00038554328942953147\n",
            "Epoch 100/150\n",
            "200/200 [==============================] - 5s 21ms/step - loss: 0.0346 - categorical_accuracy: 0.9900 - val_loss: nan - val_categorical_accuracy: 0.9540 - lr: 3.8554e-04\n",
            "100 :lr: 0.00038554328942953147\n",
            "Epoch 101/150\n",
            "197/200 [============================>.] - ETA: 0s - loss: 0.0301 - categorical_accuracy: 0.9909WARNING:tensorflow:Compiled the loaded model, but the compiled metrics have yet to be built. `model.compile_metrics` will be empty until you train or evaluate the model.\n",
            "INFO:tensorflow:Assets written to: model/proto_omniglot_conv_100_1_5/assets\n",
            "200/200 [==============================] - 7s 31ms/step - loss: 0.0298 - categorical_accuracy: 0.9910 - val_loss: nan - val_categorical_accuracy: 0.9660 - lr: 3.5049e-04\n",
            "101 :lr: 0.0003504938994813922\n",
            "Epoch 102/150\n",
            "200/200 [==============================] - 4s 20ms/step - loss: 0.0362 - categorical_accuracy: 0.9890 - val_loss: nan - val_categorical_accuracy: 0.9660 - lr: 3.5049e-04\n",
            "102 :lr: 0.0003504938994813922\n",
            "Epoch 103/150\n",
            "200/200 [==============================] - 4s 20ms/step - loss: 0.0542 - categorical_accuracy: 0.9860 - val_loss: nan - val_categorical_accuracy: 0.9520 - lr: 3.5049e-04\n",
            "103 :lr: 0.0003504938994813922\n",
            "Epoch 104/150\n",
            "200/200 [==============================] - 5s 20ms/step - loss: 0.0402 - categorical_accuracy: 0.9890 - val_loss: nan - val_categorical_accuracy: 0.9520 - lr: 3.5049e-04\n",
            "104 :lr: 0.0003504938994813922\n",
            "Epoch 105/150\n",
            "200/200 [==============================] - 5s 20ms/step - loss: 0.0358 - categorical_accuracy: 0.9920 - val_loss: nan - val_categorical_accuracy: 0.9440 - lr: 3.5049e-04\n",
            "105 :lr: 0.0003504938994813922\n",
            "Epoch 106/150\n",
            "200/200 [==============================] - 5s 21ms/step - loss: 0.0251 - categorical_accuracy: 0.9930 - val_loss: nan - val_categorical_accuracy: 0.9660 - lr: 3.5049e-04\n",
            "106 :lr: 0.0003504938994813922\n",
            "Epoch 107/150\n",
            "200/200 [==============================] - 6s 26ms/step - loss: 0.0417 - categorical_accuracy: 0.9860 - val_loss: nan - val_categorical_accuracy: 0.9720 - lr: 3.5049e-04\n",
            "107 :lr: 0.0003504938994813922\n",
            "Epoch 108/150\n",
            "200/200 [==============================] - 5s 21ms/step - loss: 0.0344 - categorical_accuracy: 0.9870 - val_loss: nan - val_categorical_accuracy: 0.9500 - lr: 3.5049e-04\n",
            "108 :lr: 0.0003504938994813922\n",
            "Epoch 109/150\n",
            "200/200 [==============================] - 5s 22ms/step - loss: 0.0499 - categorical_accuracy: 0.9830 - val_loss: nan - val_categorical_accuracy: 0.9580 - lr: 3.5049e-04\n",
            "109 :lr: 0.0003504938994813922\n",
            "Epoch 110/150\n",
            "200/200 [==============================] - 5s 21ms/step - loss: 0.0182 - categorical_accuracy: 0.9970 - val_loss: nan - val_categorical_accuracy: 0.9680 - lr: 3.5049e-04\n",
            "110 :lr: 0.0003504938994813922\n",
            "Epoch 111/150\n",
            "200/200 [==============================] - 5s 21ms/step - loss: 0.0299 - categorical_accuracy: 0.9900 - val_loss: nan - val_categorical_accuracy: 0.9560 - lr: 3.1863e-04\n",
            "111 :lr: 0.00031863081771035654\n",
            "Epoch 112/150\n",
            "200/200 [==============================] - 5s 21ms/step - loss: 0.0392 - categorical_accuracy: 0.9880 - val_loss: nan - val_categorical_accuracy: 0.9680 - lr: 3.1863e-04\n",
            "112 :lr: 0.00031863081771035654\n",
            "Epoch 113/150\n",
            "200/200 [==============================] - 5s 20ms/step - loss: 0.0252 - categorical_accuracy: 0.9930 - val_loss: nan - val_categorical_accuracy: 0.9600 - lr: 3.1863e-04\n",
            "113 :lr: 0.00031863081771035654\n",
            "Epoch 114/150\n",
            "200/200 [==============================] - 5s 20ms/step - loss: 0.0331 - categorical_accuracy: 0.9870 - val_loss: nan - val_categorical_accuracy: 0.9640 - lr: 3.1863e-04\n",
            "114 :lr: 0.00031863081771035654\n",
            "Epoch 115/150\n",
            "200/200 [==============================] - 5s 21ms/step - loss: 0.0263 - categorical_accuracy: 0.9950 - val_loss: nan - val_categorical_accuracy: 0.9560 - lr: 3.1863e-04\n",
            "115 :lr: 0.00031863081771035654\n",
            "Epoch 116/150\n",
            "200/200 [==============================] - 5s 21ms/step - loss: 0.0212 - categorical_accuracy: 0.9950 - val_loss: nan - val_categorical_accuracy: 0.9740 - lr: 3.1863e-04\n",
            "116 :lr: 0.00031863081771035654\n",
            "Epoch 117/150\n",
            "200/200 [==============================] - 5s 20ms/step - loss: 0.0291 - categorical_accuracy: 0.9910 - val_loss: nan - val_categorical_accuracy: 0.9780 - lr: 3.1863e-04\n",
            "117 :lr: 0.00031863081771035654\n",
            "Epoch 118/150\n",
            "200/200 [==============================] - 5s 20ms/step - loss: 0.0254 - categorical_accuracy: 0.9940 - val_loss: nan - val_categorical_accuracy: 0.9640 - lr: 3.1863e-04\n",
            "118 :lr: 0.00031863081771035654\n",
            "Epoch 119/150\n",
            "200/200 [==============================] - 5s 21ms/step - loss: 0.0387 - categorical_accuracy: 0.9910 - val_loss: nan - val_categorical_accuracy: 0.9700 - lr: 3.1863e-04\n",
            "119 :lr: 0.00031863081771035654\n",
            "Epoch 120/150\n",
            "200/200 [==============================] - 5s 20ms/step - loss: 0.0220 - categorical_accuracy: 0.9960 - val_loss: nan - val_categorical_accuracy: 0.9700 - lr: 3.1863e-04\n",
            "120 :lr: 0.00031863081771035654\n",
            "Epoch 121/150\n",
            "200/200 [==============================] - 5s 21ms/step - loss: 0.0381 - categorical_accuracy: 0.9900 - val_loss: nan - val_categorical_accuracy: 0.9780 - lr: 2.8966e-04\n",
            "121 :lr: 0.00028966437973668776\n",
            "Epoch 122/150\n",
            "200/200 [==============================] - 5s 21ms/step - loss: 0.0362 - categorical_accuracy: 0.9890 - val_loss: nan - val_categorical_accuracy: 0.9720 - lr: 2.8966e-04\n",
            "122 :lr: 0.00028966437973668776\n",
            "Epoch 123/150\n",
            "200/200 [==============================] - 5s 21ms/step - loss: 0.0275 - categorical_accuracy: 0.9920 - val_loss: nan - val_categorical_accuracy: 0.9680 - lr: 2.8966e-04\n",
            "123 :lr: 0.00028966437973668776\n",
            "Epoch 124/150\n",
            "200/200 [==============================] - 5s 20ms/step - loss: 0.0212 - categorical_accuracy: 0.9930 - val_loss: nan - val_categorical_accuracy: 0.9600 - lr: 2.8966e-04\n",
            "124 :lr: 0.00028966437973668776\n",
            "Epoch 125/150\n",
            "200/200 [==============================] - 5s 21ms/step - loss: 0.0271 - categorical_accuracy: 0.9910 - val_loss: nan - val_categorical_accuracy: 0.9660 - lr: 2.8966e-04\n",
            "125 :lr: 0.00028966437973668776\n",
            "Epoch 126/150\n",
            "200/200 [==============================] - 5s 21ms/step - loss: 0.0322 - categorical_accuracy: 0.9870 - val_loss: nan - val_categorical_accuracy: 0.9420 - lr: 2.8966e-04\n",
            "126 :lr: 0.00028966437973668776\n",
            "Epoch 127/150\n",
            "200/200 [==============================] - 5s 21ms/step - loss: 0.0372 - categorical_accuracy: 0.9880 - val_loss: 0.0772 - val_categorical_accuracy: 0.9760 - lr: 2.8966e-04\n",
            "127 :lr: 0.00028966437973668776\n",
            "Epoch 128/150\n",
            "200/200 [==============================] - 5s 22ms/step - loss: 0.0240 - categorical_accuracy: 0.9940 - val_loss: nan - val_categorical_accuracy: 0.9660 - lr: 2.8966e-04\n",
            "128 :lr: 0.00028966437973668776\n",
            "Epoch 129/150\n",
            "200/200 [==============================] - 5s 21ms/step - loss: 0.0471 - categorical_accuracy: 0.9850 - val_loss: nan - val_categorical_accuracy: 0.9740 - lr: 2.8966e-04\n",
            "129 :lr: 0.00028966437973668776\n",
            "Epoch 130/150\n",
            "200/200 [==============================] - 5s 22ms/step - loss: 0.0375 - categorical_accuracy: 0.9940 - val_loss: nan - val_categorical_accuracy: 0.9680 - lr: 2.8966e-04\n",
            "130 :lr: 0.00028966437973668776\n",
            "Epoch 131/150\n",
            "200/200 [==============================] - 5s 22ms/step - loss: 0.0302 - categorical_accuracy: 0.9930 - val_loss: nan - val_categorical_accuracy: 0.9800 - lr: 2.6333e-04\n",
            "131 :lr: 0.0002633312543060798\n",
            "Epoch 132/150\n",
            "200/200 [==============================] - 5s 21ms/step - loss: 0.0350 - categorical_accuracy: 0.9840 - val_loss: nan - val_categorical_accuracy: 0.9640 - lr: 2.6333e-04\n",
            "132 :lr: 0.0002633312543060798\n",
            "Epoch 133/150\n",
            "200/200 [==============================] - 5s 21ms/step - loss: 0.0265 - categorical_accuracy: 0.9930 - val_loss: nan - val_categorical_accuracy: 0.9560 - lr: 2.6333e-04\n",
            "133 :lr: 0.0002633312543060798\n",
            "Epoch 134/150\n",
            "200/200 [==============================] - 5s 22ms/step - loss: 0.0211 - categorical_accuracy: 0.9940 - val_loss: nan - val_categorical_accuracy: 0.9580 - lr: 2.6333e-04\n",
            "134 :lr: 0.0002633312543060798\n",
            "Epoch 135/150\n",
            "200/200 [==============================] - 5s 22ms/step - loss: 0.0334 - categorical_accuracy: 0.9920 - val_loss: nan - val_categorical_accuracy: 0.9700 - lr: 2.6333e-04\n",
            "135 :lr: 0.0002633312543060798\n",
            "Epoch 136/150\n",
            "200/200 [==============================] - 5s 22ms/step - loss: 0.0200 - categorical_accuracy: 0.9930 - val_loss: nan - val_categorical_accuracy: 0.9580 - lr: 2.6333e-04\n",
            "136 :lr: 0.0002633312543060798\n",
            "Epoch 137/150\n",
            "200/200 [==============================] - 5s 22ms/step - loss: 0.0338 - categorical_accuracy: 0.9880 - val_loss: nan - val_categorical_accuracy: 0.9520 - lr: 2.6333e-04\n",
            "137 :lr: 0.0002633312543060798\n",
            "Epoch 138/150\n",
            "200/200 [==============================] - 5s 21ms/step - loss: 0.0165 - categorical_accuracy: 0.9970 - val_loss: nan - val_categorical_accuracy: 0.9640 - lr: 2.6333e-04\n",
            "138 :lr: 0.0002633312543060798\n",
            "Epoch 139/150\n",
            "200/200 [==============================] - 5s 22ms/step - loss: 0.0320 - categorical_accuracy: 0.9920 - val_loss: nan - val_categorical_accuracy: 0.9640 - lr: 2.6333e-04\n",
            "139 :lr: 0.0002633312543060798\n",
            "Epoch 140/150\n",
            "200/200 [==============================] - 5s 22ms/step - loss: 0.0321 - categorical_accuracy: 0.9900 - val_loss: nan - val_categorical_accuracy: 0.9700 - lr: 2.6333e-04\n",
            "140 :lr: 0.0002633312543060798\n",
            "Epoch 141/150\n",
            "200/200 [==============================] - 5s 21ms/step - loss: 0.0380 - categorical_accuracy: 0.9890 - val_loss: nan - val_categorical_accuracy: 0.9720 - lr: 2.3939e-04\n",
            "141 :lr: 0.0002393920493691634\n",
            "Epoch 142/150\n",
            "200/200 [==============================] - 5s 21ms/step - loss: 0.0294 - categorical_accuracy: 0.9900 - val_loss: nan - val_categorical_accuracy: 0.9660 - lr: 2.3939e-04\n",
            "142 :lr: 0.0002393920493691634\n",
            "Epoch 143/150\n",
            "200/200 [==============================] - 5s 22ms/step - loss: 0.0348 - categorical_accuracy: 0.9890 - val_loss: nan - val_categorical_accuracy: 0.9380 - lr: 2.3939e-04\n",
            "143 :lr: 0.0002393920493691634\n",
            "Epoch 144/150\n",
            "200/200 [==============================] - 5s 21ms/step - loss: 0.0261 - categorical_accuracy: 0.9920 - val_loss: nan - val_categorical_accuracy: 0.9720 - lr: 2.3939e-04\n",
            "144 :lr: 0.0002393920493691634\n",
            "Epoch 145/150\n",
            "200/200 [==============================] - 5s 21ms/step - loss: 0.0185 - categorical_accuracy: 0.9930 - val_loss: nan - val_categorical_accuracy: 0.9760 - lr: 2.3939e-04\n",
            "145 :lr: 0.0002393920493691634\n",
            "Epoch 146/150\n",
            "200/200 [==============================] - 5s 21ms/step - loss: 0.0338 - categorical_accuracy: 0.9880 - val_loss: nan - val_categorical_accuracy: 0.9620 - lr: 2.3939e-04\n",
            "146 :lr: 0.0002393920493691634\n",
            "Epoch 147/150\n",
            "200/200 [==============================] - 5s 22ms/step - loss: 0.0288 - categorical_accuracy: 0.9930 - val_loss: nan - val_categorical_accuracy: 0.9600 - lr: 2.3939e-04\n",
            "147 :lr: 0.0002393920493691634\n",
            "Epoch 148/150\n",
            "200/200 [==============================] - 5s 21ms/step - loss: 0.0218 - categorical_accuracy: 0.9930 - val_loss: nan - val_categorical_accuracy: 0.9660 - lr: 2.3939e-04\n",
            "148 :lr: 0.0002393920493691634\n",
            "Epoch 149/150\n",
            "200/200 [==============================] - 5s 22ms/step - loss: 0.0331 - categorical_accuracy: 0.9870 - val_loss: nan - val_categorical_accuracy: 0.9580 - lr: 2.3939e-04\n",
            "149 :lr: 0.0002393920493691634\n",
            "Epoch 150/150\n",
            "200/200 [==============================] - 5s 21ms/step - loss: 0.0375 - categorical_accuracy: 0.9890 - val_loss: nan - val_categorical_accuracy: 0.9700 - lr: 2.3939e-04\n"
          ]
        }
      ],
      "source": [
        "train_way = 5\n",
        "val_way = 5\n",
        "query = 1\n",
        "shot = 1\n",
        "n=80\n",
        "lr=0.001\n",
        "dim=(28,28,1)\n",
        "history3=[]\n",
        "from tensorflow.keras import callbacks as cb\n",
        "\n",
        "def scheduler(epoch):\n",
        "    global lr\n",
        "    print( epoch ,\":lr:\",lr)\n",
        "    if epoch %10 == 0:   \n",
        "        lr/= 1.1\n",
        "    return lr\n",
        "\n",
        "class SaveConv(tf.keras.callbacks.Callback):\n",
        "    def on_epoch_end(self, epoch, logs=None):\n",
        "        if epoch % 100 == 0:\n",
        "            save_model(conv, f\"model/proto_omniglot_conv_{epoch}_{shot}_{val_way}\")\n",
        "\n",
        "if __name__ == \"__main__\":\n",
        "    conv = conv_net(dim)\n",
        "    conv_5d = TimeDistributed(conv)\n",
        "    input_shape = (None,28,28,1)\n",
        "    sample = Input(input_shape)\n",
        "    out_feature = conv_5d(sample)\n",
        "    out_feature = Lambda(reduce_tensor)(out_feature)\n",
        "    inp = Input(input_shape)\n",
        "    map_feature = conv_5d(inp)\n",
        "    map_feature = Lambda(reshape_query)(map_feature)\n",
        "    pred = Lambda(proto_dist)([out_feature, map_feature]) #negative distance\n",
        "    combine1 = Model([sample, inp], pred)\n",
        "    optimizer = Adam(0.001)\n",
        "    combine1.compile(loss='categorical_crossentropy', optimizer=optimizer, metrics=['categorical_accuracy'])\n",
        "    print(combine1.summary())\n",
        "\n",
        " #.........................................................................................\n",
        "    train_loader = Data_GeneratorRavi(way=train_way,vway=val_way, datatype='train',num_per_class=n,query=query, shot=shot, num_batch=200)\n",
        "    val_loader = Data_GeneratorRavi(way=train_way,vway=val_way, datatype='val',num_per_class=n, shot=shot, num_batch=100)\n",
        "    save_conv = SaveConv()\n",
        "    reduce_lr = cb.ReduceLROnPlateau(monitor='val_loss', factor=0.4,patience=2, min_lr=1e-8)\n",
        "    lr_sched = cb.LearningRateScheduler(scheduler)\n",
        "    tensorboard = cb.TensorBoard()\n",
        "\n",
        "    history3=combine1.fit_generator(train_loader,epochs=150,validation_data=val_loader, use_multiprocessing=True, workers=4, shuffle=False, callbacks=[save_conv, lr_sched, tensorboard])\n",
        "\n",
        "combine1.save(\"Model/ProtoNet_Omniglot_5_1.h5\")\n",
        "#np.save('Model/PtotoNet_Omniglot_5_5.npy',history3.history)\n",
        "\n",
        "#combine1.save(\"Model/ProtoNet_Omniglot_5_5_1000_1.1.h5\")\n",
        "#np.save('Model/ProtoNet_Omniglot_5_5_1000_1.1.npy',history3.history)\n",
        "    "
      ]
    },
    {
      "cell_type": "code",
      "execution_count": null,
      "metadata": {
        "id": "RB7eXytuLKAQ"
      },
      "outputs": [],
      "source": [
        "#combine1.save('Model/Proto_Omniglot_5_5_1000_1.1.h5')   \n",
        "\n",
        "train_way =5\n",
        "val_way = 5\n",
        "query = 1\n",
        "shot = 5\n",
        "result=[]\n",
        "\n",
        "#m3=load_model('Model/Regress_euclid_Omniglot_5_5_1000_1.1.h5')\n",
        "m3=load_model('Model/Proto_Omniglot_5_5_1000_1.1.h5')\n",
        "val_loader = Data_GeneratorRavi(way=train_way,vway=val_way, datatype='test', num_per_class=n,shot=shot, num_batch=100)\n",
        "\n",
        "(x1,y1),z1=val_loader[0]\n",
        "print(x1.shape,y1.shape,z1.shape)\n",
        "result=m3.evaluate(val_loader)\n",
        "\n"
      ]
    },
    {
      "cell_type": "code",
      "execution_count": null,
      "metadata": {
        "id": "jcKIOlIKpcPP"
      },
      "outputs": [],
      "source": [
        "combine1.save(\"Model/ProtoNet_Omniglot_5_5_1000_1.1.h5\")\n",
        "np.save('Model/ProtoNet_Omniglot_5_5_1000_1.1.npy',history3.history)"
      ]
    },
    {
      "cell_type": "code",
      "execution_count": null,
      "metadata": {
        "colab": {
          "base_uri": "https://localhost:8080/"
        },
        "id": "1uvv2YlhLK0P",
        "outputId": "04317b9d-896c-4cc3-dde3-66db936af73e"
      },
      "outputs": [
        {
          "name": "stdout",
          "output_type": "stream",
          "text": [
            "100/100 [==============================] - 1s 5ms/step - loss: 0.2101 - categorical_accuracy: 0.9355\n"
          ]
        }
      ],
      "source": [
        "val_loader = Data_GeneratorRavi(way=train_way,vway=val_way, datatype='test', num_per_class=n,shot=shot, num_batch=100)\n",
        "result=combine1.evaluate(val_loader)"
      ]
    },
    {
      "cell_type": "code",
      "execution_count": null,
      "metadata": {
        "colab": {
          "base_uri": "https://localhost:8080/",
          "height": 353
        },
        "id": "e1WiM7ndI7uY",
        "outputId": "0282c641-f9f8-42f7-baab-e3605828fb0b"
      },
      "outputs": [
        {
          "name": "stderr",
          "output_type": "stream",
          "text": [
            "/usr/local/lib/python3.7/dist-packages/numpy/core/fromnumeric.py:3373: RuntimeWarning: Mean of empty slice.\n",
            "  out=out, **kwargs)\n",
            "/usr/local/lib/python3.7/dist-packages/numpy/core/_methods.py:170: RuntimeWarning: invalid value encountered in double_scalars\n",
            "  ret = ret.dtype.type(ret / rcount)\n"
          ]
        },
        {
          "data": {
            "image/png": "[encoded data removed]",
            "text/plain": [
              "<Figure size 432x288 with 1 Axes>"
            ]
          },
          "metadata": {},
          "output_type": "display_data"
        }
      ],
      "source": [
        "#history1=history4\n",
        "def smooth (h):\n",
        "  hh=[]; b=3; L=int(len(h)/b)\n",
        "  for i in range(L):\n",
        "    hh.append(np.mean(h[i*b:i*b+b]))\n",
        "  hh.append(np.mean(h[L*b+b:])) # append rest\n",
        "  return hh\n",
        "metric=\"categorical_accuracy\"\n",
        "plt.plot(smooth(history1.history[\"val_\" + metric]))\n",
        "plt.plot(smooth(history4.history[\"val_\" + metric]))\n",
        "\n",
        "plt.legend([ \"protoNet-5-5_200_1.1\",\"kernelNet-5-5-200_1.1\",\"protoNet-5-5_1000_1.3\"], loc=\"lower right\")\n",
        "\n",
        "\n",
        "\n",
        "plt.ylabel(metric)\n",
        "plt.xlabel(\"epoch\")\n",
        "plt.show()\n"
      ]
    },
    {
      "cell_type": "code",
      "execution_count": null,
      "metadata": {
        "colab": {
          "base_uri": "https://localhost:8080/",
          "height": 279
        },
        "id": "a1EvI248_ESe",
        "outputId": "f012ca76-daf8-4286-c2f4-8b7c6a5c9833"
      },
      "outputs": [
        {
          "data": {
            "image/png": "[encoded data removed]",
            "text/plain": [
              "<Figure size 432x288 with 1 Axes>"
            ]
          },
          "metadata": {},
          "output_type": "display_data"
        }
      ],
      "source": [
        "\n",
        "history1=np.load('Model/PtotoNet_Omniglot_20_1.npy',allow_pickle='TRUE').item()\n",
        "history2=np.load('Model/Regress_euclid_Omniglot_20_1_1000_1.1.npy',allow_pickle='TRUE').item()\n",
        "history3=np.load('Model/Regress_euclid_unNorm_Omniglot_20_1_1000_1.1.npy',allow_pickle='TRUE').item()\n",
        "history4=np.load('Model/Regress_euclid_Res_Omniglot_20_1_1000_1.1.npy',allow_pickle='TRUE').item()\n",
        "\n",
        "def smooth (h):\n",
        "  hh=[]; b=3; L=int(len(h)/b)\n",
        "  for i in range(L):\n",
        "    hh.append(np.mean(h[i*b:i*b+b]))\n",
        "  hh.append(np.mean(h[L*b+b:])) # append rest\n",
        "  return hh\n",
        "metric=\"accuracy\"\n",
        "plt.plot(history1[\"val_categorical_\" + metric])\n",
        "plt.plot(history2[\"val_\" + metric])\n",
        "plt.plot(history3[\"val_\" + metric])\n",
        "plt.plot(history4[\"val_\" + metric])\n",
        "plt.legend([ \"protoNet-20-1_1000_1.1\",\"RegressNet-20-1-1000_1.1\",\"RegressNet-UnNorm_20-1-1000_1.1\",\"ResRegressNet-20-1-1000_1.1\",], loc=\"lower right\")\n",
        "\n",
        "plt.ylabel(metric)\n",
        "plt.xlabel(\"epoch\")\n",
        "plt.show()"
      ]
    }
  ],
  "metadata": {
    "colab": {
      "provenance": [],
      "include_colab_link": true
    },
    "gpuClass": "standard",
    "kernelspec": {
      "display_name": "Python 3",
      "name": "python3"
    },
    "language_info": {
      "name": "python"
    }
  },
  "nbformat": 4,
  "nbformat_minor": 0
}