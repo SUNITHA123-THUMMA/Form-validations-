{
  "nbformat": 4,
  "nbformat_minor": 0,
  "metadata": {
    "colab": {
      "name": "Untitled0.ipynb",
      "provenance": [],
      "collapsed_sections": [],
      "authorship_tag": "ABX9TyPShEZGg/6s5R05uSi/acXn",
      "include_colab_link": true
    },
    "kernelspec": {
      "name": "python3",
      "display_name": "Python 3"
    },
    "language_info": {
      "name": "python"
    }
  },
  "cells": [
    {
      "cell_type": "markdown",
      "metadata": {
        "id": "view-in-github",
        "colab_type": "text"
      },
      "source": [
        "<a href=\"https://colab.research.google.com/github/SUNITHA123-THUMMA/Form-validations-/blob/main/week-07.ipynb\" target=\"_parent\"><img src=\"https://colab.research.google.com/assets/colab-badge.svg\" alt=\"Open In Colab\"/></a>"
      ]
    },
    {
      "cell_type": "markdown",
      "source": [
        "                                        **WEEK-07**\n",
        "ID NO:N180091\n",
        "\n",
        "NAME:T.Sunitha\n",
        "\n",
        "DATE:14-07-2022"
      ],
      "metadata": {
        "id": "GFuYUQcLCgYO"
      }
    },
    {
      "cell_type": "markdown",
      "source": [
        "1. Take this dataset and What would happen if we wanted to try and\n",
        "compute the mean of numbers?\n",
        "\n",
        "df = pd.DataFrame({&quot;numbers&quot;: [&quot;#23&quot;, &quot;#24&quot;, &quot;#18&quot;, &quot;#14&quot;, &quot;#12&quot;, &quot;#10&quot;, &quot;#35&quot;],\n",
        "\n",
        "&quot;nums&quot;: [&quot;23&quot;, &quot;24&quot;, &quot;18&quot;, &quot;14&quot;, np.nan, &quot;XYZ&quot;, &quot;35&quot;],\n",
        "\n",
        "&quot;colors&quot;: [&quot;green&quot;, &quot;red&quot;, &quot;yellow&quot;, &quot;orange&quot;, &quot;purple&quot;, &quot;blue&quot;, &quot;pink&quot;],\n",
        "\n",
        "&quot;other_column&quot;: [0, 1, 0, 2, 1, 0, 2]})\n",
        "\n",
        "It throws an error!\n",
        "Can you figure out why?\n",
        "Hint\n",
        "When looking at error messages, start at the very bottom.\n",
        "\n",
        "String Methods\n",
        "Our solution to the previous exercise was to remove the # by using\n",
        "the replace string method: int(c2n.replace(&quot;#&quot;, &quot;&quot;)).\n"
      ],
      "metadata": {
        "id": "4snKxNpkCizJ"
      }
    },
    {
      "cell_type": "code",
      "source": [
        "import pandas as pd\n",
        "import numpy as np\n",
        "df = pd.DataFrame({\"numbers\": [\"#23\", \"#24\",\"#18\",\"#14\",\"#12\", \"#10\", \"#35\"],\n",
        "\"nums\": [\"23\",\"24\",\"18\",\"14\", np.nan,\"XYZ\",\"35\"],\n",
        "\"colors\": [\"green\", \"red\", \"yellow\",\"orange\",\"purple\",\"blue\", \"pink\"],\n",
        "\"other_column\": [0, 1, 0, 2, 1, 0, 2]})\n",
        "print(df)"
      ],
      "metadata": {
        "colab": {
          "base_uri": "https://localhost:8080/"
        },
        "id": "mQaIo-YXCjQI",
        "outputId": "803a66f7-53bd-478a-bdc2-0d0a8e57fa0e"
      },
      "execution_count": 12,
      "outputs": [
        {
          "output_type": "stream",
          "name": "stdout",
          "text": [
            "  numbers nums  colors  other_column\n",
            "0     #23   23   green             0\n",
            "1     #24   24     red             1\n",
            "2     #18   18  yellow             0\n",
            "3     #14   14  orange             2\n",
            "4     #12  NaN  purple             1\n",
            "5     #10  XYZ    blue             0\n",
            "6     #35   35    pink             2\n"
          ]
        }
      ]
    },
    {
      "cell_type": "code",
      "source": [
        "df['numbers'] = df['numbers'].str.replace('#','0')\n",
        "print(df)\n"
      ],
      "metadata": {
        "colab": {
          "base_uri": "https://localhost:8080/"
        },
        "id": "ygU9xRrUG90C",
        "outputId": "dfb1cf6f-096c-4efa-e0e8-49433653a9cb"
      },
      "execution_count": 13,
      "outputs": [
        {
          "output_type": "stream",
          "name": "stdout",
          "text": [
            "  numbers nums  colors  other_column\n",
            "0     023   23   green             0\n",
            "1     024   24     red             1\n",
            "2     018   18  yellow             0\n",
            "3     014   14  orange             2\n",
            "4     012  NaN  purple             1\n",
            "5     010  XYZ    blue             0\n",
            "6     035   35    pink             2\n"
          ]
        }
      ]
    },
    {
      "cell_type": "markdown",
      "source": [
        "2. Type Conversions\n",
        "In our example above, the dtype of the numbers_str column shows that pandas\n",
        "still treats it as a string even after we have removed the &quot;#&quot;.\n",
        "\n",
        " We need to convert this column to numbers."
      ],
      "metadata": {
        "id": "13Qjcrz6Ona2"
      }
    },
    {
      "cell_type": "code",
      "source": [
        "df[\"numbers\"]=pd.to_numeric(df[\"numbers\"])\n",
        "print(df)"
      ],
      "metadata": {
        "colab": {
          "base_uri": "https://localhost:8080/",
          "height": 183
        },
        "id": "aAqzdl-nRMg_",
        "outputId": "7ad3ec70-77b4-4710-a90e-5bda06bbe8f1"
      },
      "execution_count": 40,
      "outputs": [
        {
          "output_type": "error",
          "ename": "TypeError",
          "evalue": "ignored",
          "traceback": [
            "\u001b[0;31m---------------------------------------------------------------------------\u001b[0m",
            "\u001b[0;31mTypeError\u001b[0m                                 Traceback (most recent call last)",
            "\u001b[0;32m<ipython-input-40-00a3c0815034>\u001b[0m in \u001b[0;36m<module>\u001b[0;34m()\u001b[0m\n\u001b[0;32m----> 1\u001b[0;31m \u001b[0mdf\u001b[0m\u001b[0;34m[\u001b[0m\u001b[0;34m\"numbers\"\u001b[0m\u001b[0;34m]\u001b[0m\u001b[0;34m=\u001b[0m\u001b[0mpd\u001b[0m\u001b[0;34m.\u001b[0m\u001b[0mto_numeric\u001b[0m\u001b[0;34m(\u001b[0m\u001b[0mdf\u001b[0m\u001b[0;34m[\u001b[0m\u001b[0;34m\"numbers\"\u001b[0m\u001b[0;34m]\u001b[0m\u001b[0;34m)\u001b[0m\u001b[0;34m\u001b[0m\u001b[0;34m\u001b[0m\u001b[0m\n\u001b[0m\u001b[1;32m      2\u001b[0m \u001b[0mprint\u001b[0m\u001b[0;34m(\u001b[0m\u001b[0mdf\u001b[0m\u001b[0;34m)\u001b[0m\u001b[0;34m\u001b[0m\u001b[0;34m\u001b[0m\u001b[0m\n",
            "\u001b[0;31mTypeError\u001b[0m: 'type' object is not subscriptable"
          ]
        }
      ]
    },
    {
      "cell_type": "code",
      "source": [
        ""
      ],
      "metadata": {
        "id": "vlW3y4uASqYm"
      },
      "execution_count": null,
      "outputs": []
    },
    {
      "cell_type": "code",
      "source": [
        "pip install "
      ],
      "metadata": {
        "id": "hEzptqZdR-Sm"
      },
      "execution_count": null,
      "outputs": []
    },
    {
      "cell_type": "markdown",
      "source": [
        "3. Missing Data\n",
        "Many datasets have missing data. In our example, we are missing an\n",
        "element.\n",
        "Many approaches have been developed to deal with missing data,\n",
        "1. # drop all rows containing a missing observation\n",
        "2. # fill the missing values with a specific value(with any related value)\n",
        "3. # use the _next_ valid observation to fill the missing data\n",
        "4. # use the _previous_ valid observation to fill missing data\n"
      ],
      "metadata": {
        "id": "RxUCcQ4KSbPy"
      }
    },
    {
      "cell_type": "code",
      "source": [
        "df.drop"
      ],
      "metadata": {
        "id": "6khrmolZSrq0"
      },
      "execution_count": null,
      "outputs": []
    }
  ]
}